{
 "cells": [
  {
   "cell_type": "code",
   "execution_count": 1,
   "metadata": {},
   "outputs": [
    {
     "name": "stderr",
     "output_type": "stream",
     "text": [
      "2022-12-05 10:58:26.286116: I tensorflow/core/platform/cpu_feature_guard.cc:193] This TensorFlow binary is optimized with oneAPI Deep Neural Network Library (oneDNN) to use the following CPU instructions in performance-critical operations:  AVX2 FMA\n",
      "To enable them in other operations, rebuild TensorFlow with the appropriate compiler flags.\n"
     ]
    }
   ],
   "source": [
    "# IMPORT MODULES\n",
    "\n",
    "import numpy as np\n",
    "from numpy import ma\n",
    "import pandas as pd\n",
    "import math\n",
    "import matplotlib\n",
    "import matplotlib.pyplot as plt\n",
    "import matplotlib.colors as colors\n",
    "%matplotlib inline\n",
    "from matplotlib import ticker, cm\n",
    "from matplotlib.pyplot import figure\n",
    "import seaborn as sns\n",
    "\n",
    "from scipy.stats import multivariate_normal\n",
    "from sklearn.metrics import f1_score, confusion_matrix, classification_report, precision_recall_fscore_support\n",
    "from sklearn.preprocessing import StandardScaler\n",
    "from sklearn.decomposition import PCA\n",
    "from sklearn.neighbors import LocalOutlierFactor\n",
    "from sklearn.ensemble import IsolationForest\n",
    "from sklearn.covariance import EllipticEnvelope\n",
    "from sklearn.svm import OneClassSVM\n",
    "\n",
    "from keras.models import Model, load_model\n",
    "from keras.layers import Input, Dense\n",
    "from keras.callbacks import ModelCheckpoint, TensorBoard\n",
    "from keras import regularizers\n",
    "\n",
    "# import os\n",
    "# for dirname, _, filenames in os.walk('/kaggle/input'):\n",
    "#     for filename in filenames:\n",
    "#         print(os.path.join(dirname, filename))"
   ]
  },
  {
   "cell_type": "code",
   "execution_count": 2,
   "metadata": {},
   "outputs": [
    {
     "name": "stdout",
     "output_type": "stream",
     "text": [
      "(284807, 31)\n",
      "Index(['Time', 'V1', 'V2', 'V3', 'V4', 'V5', 'V6', 'V7', 'V8', 'V9', 'V10',\n",
      "       'V11', 'V12', 'V13', 'V14', 'V15', 'V16', 'V17', 'V18', 'V19', 'V20',\n",
      "       'V21', 'V22', 'V23', 'V24', 'V25', 'V26', 'V27', 'V28', 'Amount',\n",
      "       'Class'],\n",
      "      dtype='object')\n"
     ]
    }
   ],
   "source": [
    "dfRaw = pd.read_csv('creditcard.csv')\n",
    "print(dfRaw.shape)\n",
    "print(dfRaw.columns)"
   ]
  },
  {
   "cell_type": "code",
   "execution_count": 3,
   "metadata": {},
   "outputs": [
    {
     "name": "stdout",
     "output_type": "stream",
     "text": [
      "data  (284807, 31)\n",
      "normal_data  (284315, 31)\n",
      "fraud_data  (492, 31)\n",
      "Percent fraud  0.1727 %\n"
     ]
    }
   ],
   "source": [
    "#  SCALER / Normalization\n",
    "\n",
    "data = dfRaw.copy()\n",
    "scl = StandardScaler()\n",
    "all_cols = list(data)[:] \n",
    "pca_columns = list(data)[:-1] # all cols without Class\n",
    "Xcopy = data[pca_columns]\n",
    "XcopyALL = data[all_cols]\n",
    "Xscaled = scl.fit_transform(Xcopy)\n",
    "OnlyClass = data['Class'].values.reshape(-1,1)\n",
    "data = np.concatenate((Xscaled, OnlyClass), axis=1)\n",
    "data = pd.DataFrame(data, columns = XcopyALL.columns)\n",
    "\n",
    "normal_data = data.loc[data[\"Class\"] == 0]\n",
    "fraud_data = data.loc[data[\"Class\"] == 1]\n",
    "\n",
    "print(\"data \", data.shape)\n",
    "print(\"normal_data \", normal_data.shape)\n",
    "print(\"fraud_data \", fraud_data.shape)\n",
    "print(\"Percent fraud \", round(100*492/284807, 4),\"%\")"
   ]
  },
  {
   "cell_type": "code",
   "execution_count": 16,
   "metadata": {},
   "outputs": [
    {
     "ename": "KeyError",
     "evalue": "\"['time', 'class', 'amount'] not found in axis\"",
     "output_type": "error",
     "traceback": [
      "\u001b[0;31m---------------------------------------------------------------------------\u001b[0m",
      "\u001b[0;31mKeyError\u001b[0m                                  Traceback (most recent call last)",
      "Cell \u001b[0;32mIn [16], line 1\u001b[0m\n\u001b[0;32m----> 1\u001b[0m X \u001b[39m=\u001b[39m data\u001b[39m.\u001b[39;49mdrop([\u001b[39m'\u001b[39;49m\u001b[39mtime\u001b[39;49m\u001b[39m'\u001b[39;49m,\u001b[39m'\u001b[39;49m\u001b[39mclass\u001b[39;49m\u001b[39m'\u001b[39;49m,\u001b[39m'\u001b[39;49m\u001b[39mamount\u001b[39;49m\u001b[39m'\u001b[39;49m],axis\u001b[39m=\u001b[39;49m\u001b[39m1\u001b[39;49m)\n\u001b[1;32m      2\u001b[0m y \u001b[39m=\u001b[39m data[\u001b[39m'\u001b[39m\u001b[39mclass\u001b[39m\u001b[39m'\u001b[39m]\n\u001b[1;32m      3\u001b[0m \u001b[39m# Split the data into training and testing set\u001b[39;00m\n",
      "File \u001b[0;32m/usr/local/lib/python3.10/site-packages/pandas/util/_decorators.py:317\u001b[0m, in \u001b[0;36mdeprecate_nonkeyword_arguments.<locals>.decorate.<locals>.wrapper\u001b[0;34m(*args, **kwargs)\u001b[0m\n\u001b[1;32m    311\u001b[0m \u001b[39mif\u001b[39;00m \u001b[39mlen\u001b[39m(args) \u001b[39m>\u001b[39m num_allow_args:\n\u001b[1;32m    312\u001b[0m     warnings\u001b[39m.\u001b[39mwarn(\n\u001b[1;32m    313\u001b[0m         msg\u001b[39m.\u001b[39mformat(arguments\u001b[39m=\u001b[39marguments),\n\u001b[1;32m    314\u001b[0m         \u001b[39mFutureWarning\u001b[39;00m,\n\u001b[1;32m    315\u001b[0m         stacklevel\u001b[39m=\u001b[39mfind_stack_level(inspect\u001b[39m.\u001b[39mcurrentframe()),\n\u001b[1;32m    316\u001b[0m     )\n\u001b[0;32m--> 317\u001b[0m \u001b[39mreturn\u001b[39;00m func(\u001b[39m*\u001b[39;49margs, \u001b[39m*\u001b[39;49m\u001b[39m*\u001b[39;49mkwargs)\n",
      "File \u001b[0;32m/usr/local/lib/python3.10/site-packages/pandas/core/frame.py:5391\u001b[0m, in \u001b[0;36mDataFrame.drop\u001b[0;34m(self, labels, axis, index, columns, level, inplace, errors)\u001b[0m\n\u001b[1;32m   5243\u001b[0m \u001b[39m@deprecate_nonkeyword_arguments\u001b[39m(version\u001b[39m=\u001b[39m\u001b[39mNone\u001b[39;00m, allowed_args\u001b[39m=\u001b[39m[\u001b[39m\"\u001b[39m\u001b[39mself\u001b[39m\u001b[39m\"\u001b[39m, \u001b[39m\"\u001b[39m\u001b[39mlabels\u001b[39m\u001b[39m\"\u001b[39m])\n\u001b[1;32m   5244\u001b[0m \u001b[39mdef\u001b[39;00m \u001b[39mdrop\u001b[39m(  \u001b[39m# type: ignore[override]\u001b[39;00m\n\u001b[1;32m   5245\u001b[0m     \u001b[39mself\u001b[39m,\n\u001b[0;32m   (...)\u001b[0m\n\u001b[1;32m   5252\u001b[0m     errors: IgnoreRaise \u001b[39m=\u001b[39m \u001b[39m\"\u001b[39m\u001b[39mraise\u001b[39m\u001b[39m\"\u001b[39m,\n\u001b[1;32m   5253\u001b[0m ) \u001b[39m-\u001b[39m\u001b[39m>\u001b[39m DataFrame \u001b[39m|\u001b[39m \u001b[39mNone\u001b[39;00m:\n\u001b[1;32m   5254\u001b[0m     \u001b[39m\"\"\"\u001b[39;00m\n\u001b[1;32m   5255\u001b[0m \u001b[39m    Drop specified labels from rows or columns.\u001b[39;00m\n\u001b[1;32m   5256\u001b[0m \n\u001b[0;32m   (...)\u001b[0m\n\u001b[1;32m   5389\u001b[0m \u001b[39m            weight  1.0     0.8\u001b[39;00m\n\u001b[1;32m   5390\u001b[0m \u001b[39m    \"\"\"\u001b[39;00m\n\u001b[0;32m-> 5391\u001b[0m     \u001b[39mreturn\u001b[39;00m \u001b[39msuper\u001b[39;49m()\u001b[39m.\u001b[39;49mdrop(\n\u001b[1;32m   5392\u001b[0m         labels\u001b[39m=\u001b[39;49mlabels,\n\u001b[1;32m   5393\u001b[0m         axis\u001b[39m=\u001b[39;49maxis,\n\u001b[1;32m   5394\u001b[0m         index\u001b[39m=\u001b[39;49mindex,\n\u001b[1;32m   5395\u001b[0m         columns\u001b[39m=\u001b[39;49mcolumns,\n\u001b[1;32m   5396\u001b[0m         level\u001b[39m=\u001b[39;49mlevel,\n\u001b[1;32m   5397\u001b[0m         inplace\u001b[39m=\u001b[39;49minplace,\n\u001b[1;32m   5398\u001b[0m         errors\u001b[39m=\u001b[39;49merrors,\n\u001b[1;32m   5399\u001b[0m     )\n",
      "File \u001b[0;32m/usr/local/lib/python3.10/site-packages/pandas/util/_decorators.py:317\u001b[0m, in \u001b[0;36mdeprecate_nonkeyword_arguments.<locals>.decorate.<locals>.wrapper\u001b[0;34m(*args, **kwargs)\u001b[0m\n\u001b[1;32m    311\u001b[0m \u001b[39mif\u001b[39;00m \u001b[39mlen\u001b[39m(args) \u001b[39m>\u001b[39m num_allow_args:\n\u001b[1;32m    312\u001b[0m     warnings\u001b[39m.\u001b[39mwarn(\n\u001b[1;32m    313\u001b[0m         msg\u001b[39m.\u001b[39mformat(arguments\u001b[39m=\u001b[39marguments),\n\u001b[1;32m    314\u001b[0m         \u001b[39mFutureWarning\u001b[39;00m,\n\u001b[1;32m    315\u001b[0m         stacklevel\u001b[39m=\u001b[39mfind_stack_level(inspect\u001b[39m.\u001b[39mcurrentframe()),\n\u001b[1;32m    316\u001b[0m     )\n\u001b[0;32m--> 317\u001b[0m \u001b[39mreturn\u001b[39;00m func(\u001b[39m*\u001b[39;49margs, \u001b[39m*\u001b[39;49m\u001b[39m*\u001b[39;49mkwargs)\n",
      "File \u001b[0;32m/usr/local/lib/python3.10/site-packages/pandas/core/generic.py:4510\u001b[0m, in \u001b[0;36mNDFrame.drop\u001b[0;34m(self, labels, axis, index, columns, level, inplace, errors)\u001b[0m\n\u001b[1;32m   4508\u001b[0m \u001b[39mfor\u001b[39;00m axis, labels \u001b[39min\u001b[39;00m axes\u001b[39m.\u001b[39mitems():\n\u001b[1;32m   4509\u001b[0m     \u001b[39mif\u001b[39;00m labels \u001b[39mis\u001b[39;00m \u001b[39mnot\u001b[39;00m \u001b[39mNone\u001b[39;00m:\n\u001b[0;32m-> 4510\u001b[0m         obj \u001b[39m=\u001b[39m obj\u001b[39m.\u001b[39;49m_drop_axis(labels, axis, level\u001b[39m=\u001b[39;49mlevel, errors\u001b[39m=\u001b[39;49merrors)\n\u001b[1;32m   4512\u001b[0m \u001b[39mif\u001b[39;00m inplace:\n\u001b[1;32m   4513\u001b[0m     \u001b[39mself\u001b[39m\u001b[39m.\u001b[39m_update_inplace(obj)\n",
      "File \u001b[0;32m/usr/local/lib/python3.10/site-packages/pandas/core/generic.py:4551\u001b[0m, in \u001b[0;36mNDFrame._drop_axis\u001b[0;34m(self, labels, axis, level, errors, only_slice)\u001b[0m\n\u001b[1;32m   4549\u001b[0m         new_axis \u001b[39m=\u001b[39m axis\u001b[39m.\u001b[39mdrop(labels, level\u001b[39m=\u001b[39mlevel, errors\u001b[39m=\u001b[39merrors)\n\u001b[1;32m   4550\u001b[0m     \u001b[39melse\u001b[39;00m:\n\u001b[0;32m-> 4551\u001b[0m         new_axis \u001b[39m=\u001b[39m axis\u001b[39m.\u001b[39;49mdrop(labels, errors\u001b[39m=\u001b[39;49merrors)\n\u001b[1;32m   4552\u001b[0m     indexer \u001b[39m=\u001b[39m axis\u001b[39m.\u001b[39mget_indexer(new_axis)\n\u001b[1;32m   4554\u001b[0m \u001b[39m# Case for non-unique axis\u001b[39;00m\n\u001b[1;32m   4555\u001b[0m \u001b[39melse\u001b[39;00m:\n",
      "File \u001b[0;32m/usr/local/lib/python3.10/site-packages/pandas/core/indexes/base.py:6972\u001b[0m, in \u001b[0;36mIndex.drop\u001b[0;34m(self, labels, errors)\u001b[0m\n\u001b[1;32m   6970\u001b[0m \u001b[39mif\u001b[39;00m mask\u001b[39m.\u001b[39many():\n\u001b[1;32m   6971\u001b[0m     \u001b[39mif\u001b[39;00m errors \u001b[39m!=\u001b[39m \u001b[39m\"\u001b[39m\u001b[39mignore\u001b[39m\u001b[39m\"\u001b[39m:\n\u001b[0;32m-> 6972\u001b[0m         \u001b[39mraise\u001b[39;00m \u001b[39mKeyError\u001b[39;00m(\u001b[39mf\u001b[39m\u001b[39m\"\u001b[39m\u001b[39m{\u001b[39;00m\u001b[39mlist\u001b[39m(labels[mask])\u001b[39m}\u001b[39;00m\u001b[39m not found in axis\u001b[39m\u001b[39m\"\u001b[39m)\n\u001b[1;32m   6973\u001b[0m     indexer \u001b[39m=\u001b[39m indexer[\u001b[39m~\u001b[39mmask]\n\u001b[1;32m   6974\u001b[0m \u001b[39mreturn\u001b[39;00m \u001b[39mself\u001b[39m\u001b[39m.\u001b[39mdelete(indexer)\n",
      "\u001b[0;31mKeyError\u001b[0m: \"['time', 'class', 'amount'] not found in axis\""
     ]
    }
   ],
   "source": [
    "# CREATE the TRAIN and TEST sets\n",
    "# Fraud data is ONLY in TEST - not in TRAIN\n",
    "\n",
    "normal_pca_data = normal_data[pca_columns]\n",
    "fraud_pca_data = fraud_data[pca_columns]\n",
    "\n",
    "num_test = 20000\n",
    "shuffled_data = normal_pca_data.sample(frac=1, random_state=1960)[:-num_test].values\n",
    "X_train = shuffled_data\n",
    "\n",
    "X_test = np.concatenate([shuffled_data[-num_test:], fraud_pca_data[:]])\n",
    "y_test = np.concatenate([np.zeros(num_test), np.ones(492)])\n",
    "\n",
    "print(\"normal_pca_data \", normal_pca_data.shape)\n",
    "print(\"fraud_pca_data\", fraud_pca_data.shape)\n",
    "print(\"Fraud data only in Test with NONE in the training\")\n",
    "print(\"X_train \", X_train.shape)\n",
    "#print(\"X_valid \", X_valid.shape)\n",
    "#print(\"y_valid \", y_valid.shape)\n",
    "print(\"X_test \", X_test.shape)\n",
    "print(\"y_test \", y_test.shape)"
   ]
  },
  {
   "cell_type": "code",
   "execution_count": 5,
   "metadata": {},
   "outputs": [
    {
     "name": "stdout",
     "output_type": "stream",
     "text": [
      "X_inliers  (20000, 30)\n",
      "X_outliers  (492, 30)\n",
      "X  (20492, 30)\n",
      "n_outliers  492\n",
      "percent fraud in test:  0.024009369510052704\n"
     ]
    }
   ],
   "source": [
    "X_inliers = shuffled_data[-num_test:]\n",
    "X_outliers = fraud_pca_data[:]\n",
    "X = np.r_[X_inliers, X_outliers]\n",
    "\n",
    "n_outliers = len(X_outliers)\n",
    "ground_truth = np.ones(len(X), dtype=int)\n",
    "ground_truth[-n_outliers:] = -1\n",
    "\n",
    "PercFraud = n_outliers / X_test.shape[0]\n",
    "PercFraud\n",
    "\n",
    "print('X_inliers ', X_inliers.shape)\n",
    "print('X_outliers ', X_outliers.shape)\n",
    "print('X ', X.shape)\n",
    "print('n_outliers ', n_outliers)\n",
    "print('percent fraud in test: ', PercFraud)"
   ]
  },
  {
   "cell_type": "code",
   "execution_count": 6,
   "metadata": {},
   "outputs": [
    {
     "name": "stdout",
     "output_type": "stream",
     "text": [
      "[-1.1766108  -1.4434325  -1.26030612 ... -1.03791898 -1.09955275\n",
      " -1.08083583]\n"
     ]
    },
    {
     "data": {
      "text/plain": [
       "934"
      ]
     },
     "execution_count": 6,
     "metadata": {},
     "output_type": "execute_result"
    }
   ],
   "source": [
    "# fit the model for outlier detection (default)\n",
    "clf = LocalOutlierFactor(n_neighbors=20, contamination = PercFraud)\n",
    "# use fit_predict to compute the predicted labels of the training samples\n",
    "# (when LOF is used for outlier detection, the estimator has no predict,\n",
    "# decision_function and score_samples methods).\n",
    "y_pred = clf.fit_predict(X)\n",
    "n_errors = (y_pred != ground_truth).sum()\n",
    "X_scores = clf.negative_outlier_factor_\n",
    "print(X_scores)\n",
    "n_errors"
   ]
  },
  {
   "cell_type": "code",
   "execution_count": 7,
   "metadata": {},
   "outputs": [
    {
     "name": "stdout",
     "output_type": "stream",
     "text": [
      "accuracy  0.9544\n"
     ]
    }
   ],
   "source": [
    "print('accuracy ' , round(1 - (n_errors / X.shape[0]),4))\n"
   ]
  },
  {
   "cell_type": "code",
   "execution_count": 8,
   "metadata": {},
   "outputs": [
    {
     "name": "stdout",
     "output_type": "stream",
     "text": [
      "0    492\n",
      "dtype: int64\n",
      "0    492\n",
      "dtype: int64\n"
     ]
    }
   ],
   "source": [
    "# Note that the ground truth and the y_pred for LOF is different than the original ... inliers = normal = 1 and outliers = fraud = -1\n",
    "# We have to modify the y_pred for the F1 score calculation to be similar to the above \n",
    "\n",
    "y_predLOF = y_pred.copy()\n",
    "y_predDF = pd.DataFrame(y_predLOF)\n",
    "print(y_predDF[y_predDF[0] == -1].count())\n",
    "\n",
    "y_predDF[y_predDF[0] == 1] = 0\n",
    "y_predDF[y_predDF[0] == -1] = 1\n",
    "print(y_predDF[y_predDF[0] == 1].count())\n",
    "\n",
    "y_predLOF = y_predDF.values\n",
    "y_predLOF = np.ravel(y_predLOF)"
   ]
  },
  {
   "cell_type": "code",
   "execution_count": 9,
   "metadata": {},
   "outputs": [
    {
     "name": "stdout",
     "output_type": "stream",
     "text": [
      "precision  0.0508\n",
      "recall  0.0508\n",
      "F1 score on Test 0.0508\n"
     ]
    }
   ],
   "source": [
    "# F1 Score\n",
    "#print(\"F1 score\", round(f1_score(y_valid,pred, average='binary'), 4))\n",
    "precision,recall,fbeta_score, support  = precision_recall_fscore_support(y_test, y_predLOF, average='binary')\n",
    "print(\"precision \", round((precision), 4))\n",
    "print(\"recall \", round((recall), 4))\n",
    "print(\"F1 score on Test\", round((fbeta_score), 4))"
   ]
  },
  {
   "cell_type": "code",
   "execution_count": 10,
   "metadata": {},
   "outputs": [
    {
     "name": "stdout",
     "output_type": "stream",
     "text": [
      "F1 score on test 0.561  with num neighbors  500\n",
      "F1 score on test 0.5915  with num neighbors  600\n",
      "F1 score on test 0.6037  with num neighbors  700\n",
      "F1 score on test 0.6098  with num neighbors  800\n",
      "F1 score on test 0.6138  with num neighbors  900\n",
      "F1 score on test 0.6037  with num neighbors  1000\n"
     ]
    },
    {
     "data": {
      "text/html": [
       "<div>\n",
       "<style scoped>\n",
       "    .dataframe tbody tr th:only-of-type {\n",
       "        vertical-align: middle;\n",
       "    }\n",
       "\n",
       "    .dataframe tbody tr th {\n",
       "        vertical-align: top;\n",
       "    }\n",
       "\n",
       "    .dataframe thead th {\n",
       "        text-align: right;\n",
       "    }\n",
       "</style>\n",
       "<table border=\"1\" class=\"dataframe\">\n",
       "  <thead>\n",
       "    <tr style=\"text-align: right;\">\n",
       "      <th></th>\n",
       "      <th>NumNeighb</th>\n",
       "      <th>F1</th>\n",
       "    </tr>\n",
       "  </thead>\n",
       "  <tbody>\n",
       "    <tr>\n",
       "      <th>0</th>\n",
       "      <td>500</td>\n",
       "      <td>0.5610</td>\n",
       "    </tr>\n",
       "    <tr>\n",
       "      <th>1</th>\n",
       "      <td>600</td>\n",
       "      <td>0.5915</td>\n",
       "    </tr>\n",
       "    <tr>\n",
       "      <th>2</th>\n",
       "      <td>700</td>\n",
       "      <td>0.6037</td>\n",
       "    </tr>\n",
       "    <tr>\n",
       "      <th>3</th>\n",
       "      <td>800</td>\n",
       "      <td>0.6098</td>\n",
       "    </tr>\n",
       "    <tr>\n",
       "      <th>4</th>\n",
       "      <td>900</td>\n",
       "      <td>0.6138</td>\n",
       "    </tr>\n",
       "  </tbody>\n",
       "</table>\n",
       "</div>"
      ],
      "text/plain": [
       "   NumNeighb      F1\n",
       "0        500  0.5610\n",
       "1        600  0.5915\n",
       "2        700  0.6037\n",
       "3        800  0.6098\n",
       "4        900  0.6138"
      ]
     },
     "execution_count": 10,
     "metadata": {},
     "output_type": "execute_result"
    }
   ],
   "source": [
    "# Optimize num of neighbors hyper paramter for best F1\n",
    "\n",
    "minRE = 500\n",
    "maxRE = 1100\n",
    "    \n",
    "EpsF1 = []\n",
    "\n",
    "for TryRE in range(minRE,maxRE,100):\n",
    "    clf = LocalOutlierFactor(n_neighbors=TryRE, contamination = PercFraud)\n",
    "    y_pred = clf.fit_predict(X)\n",
    "    n_errors = (y_pred != ground_truth).sum()\n",
    "    X_scores = clf.negative_outlier_factor_\n",
    "    \n",
    "    y_predLOF = y_pred.copy()\n",
    "    y_predDF = pd.DataFrame(y_predLOF)\n",
    "    \n",
    "    y_predDF[y_predDF[0] == 1] = 0\n",
    "    y_predDF[y_predDF[0] == -1] = 1\n",
    "    \n",
    "    y_predLOF = y_predDF.values\n",
    "    y_predLOF = np.ravel(y_predLOF)\n",
    "    \n",
    "    precision,recall,fbeta_score, support  = precision_recall_fscore_support(y_test, y_predLOF, average='binary')\n",
    "    \n",
    "    print(\"F1 score on test\", round(fbeta_score,4), \" with num neighbors \", TryRE)\n",
    "    EpsF1.append([TryRE, round(fbeta_score,4)])\n",
    "    \n",
    "EpsF1df = pd.DataFrame(EpsF1, columns = ['NumNeighb', 'F1'])\n",
    "EpsF1df.head()"
   ]
  },
  {
   "cell_type": "code",
   "execution_count": 11,
   "metadata": {},
   "outputs": [
    {
     "data": {
      "image/png": "[encoded data removed]",
      "text/plain": [
       "<Figure size 640x480 with 1 Axes>"
      ]
     },
     "metadata": {},
     "output_type": "display_data"
    }
   ],
   "source": [
    "EpsF1df.plot.line(\"NumNeighb\",\"F1\")\n",
    "plt.xlim(500, 1000)\n",
    "plt.title(\"F1 vs NumNeighb\")\n",
    "plt.show()"
   ]
  },
  {
   "cell_type": "markdown",
   "metadata": {},
   "source": [
    "# Whole dataset"
   ]
  },
  {
   "cell_type": "code",
   "execution_count": 12,
   "metadata": {},
   "outputs": [
    {
     "name": "stdout",
     "output_type": "stream",
     "text": [
      "data  (284807, 31)\n",
      "normal_data  (284315, 31)\n",
      "fraud_data  (492, 31)\n",
      "Percent fraud  0.1727 %\n",
      "normal_pca_data  (284315, 30)\n",
      "fraud_pca_data (492, 30)\n",
      "Fraud data only in Test with NONE in the training\n",
      "X_train  (209315, 30)\n",
      "X_test  (75492, 30)\n",
      "y_test  (75492,)\n",
      "X_inliers  (75000, 30)\n",
      "X_outliers  (492, 30)\n",
      "X  (75492, 30)\n",
      "n_outliers  492\n",
      "percent fraud in test:  0.0065172468605945\n"
     ]
    }
   ],
   "source": [
    "data = dfRaw.copy()\n",
    "scl = StandardScaler()\n",
    "all_cols = list(data)[:] \n",
    "pca_columns = list(data)[:-1] # all cols without Class\n",
    "Xcopy = data[pca_columns]\n",
    "XcopyALL = data[all_cols]\n",
    "Xscaled = scl.fit_transform(Xcopy)\n",
    "OnlyClass = data['Class'].values.reshape(-1,1)\n",
    "data = np.concatenate((Xscaled, OnlyClass), axis=1)\n",
    "data = pd.DataFrame(data, columns = XcopyALL.columns)\n",
    "\n",
    "normal_data = data.loc[data[\"Class\"] == 0]\n",
    "fraud_data = data.loc[data[\"Class\"] == 1]\n",
    "\n",
    "print(\"data \", data.shape)\n",
    "print(\"normal_data \", normal_data.shape)\n",
    "print(\"fraud_data \", fraud_data.shape)\n",
    "print(\"Percent fraud \", round(100*492/284807, 4),\"%\")\n",
    "\n",
    "# CREATE the TRAIN and TEST sets\n",
    "# Fraud data is ONLY in TEST - not in TRAIN\n",
    "\n",
    "normal_pca_data = normal_data[pca_columns]\n",
    "fraud_pca_data = fraud_data[pca_columns]\n",
    "\n",
    "num_test = 75000\n",
    "shuffled_data = normal_pca_data.sample(frac=1, random_state=1960)[:-num_test].values\n",
    "X_train = shuffled_data\n",
    "\n",
    "X_test = np.concatenate([shuffled_data[-num_test:], fraud_pca_data[:]])\n",
    "y_test = np.concatenate([np.zeros(num_test), np.ones(492)])\n",
    "\n",
    "print(\"normal_pca_data \", normal_pca_data.shape)\n",
    "print(\"fraud_pca_data\", fraud_pca_data.shape)\n",
    "print(\"Fraud data only in Test with NONE in the training\")\n",
    "print(\"X_train \", X_train.shape)\n",
    "#print(\"X_valid \", X_valid.shape)\n",
    "#print(\"y_valid \", y_valid.shape)\n",
    "print(\"X_test \", X_test.shape)\n",
    "print(\"y_test \", y_test.shape)\n",
    "\n",
    "X_inliers = shuffled_data[-num_test:]\n",
    "X_outliers = fraud_pca_data[:]\n",
    "X = np.r_[X_inliers, X_outliers]\n",
    "\n",
    "n_outliers = len(X_outliers)\n",
    "ground_truth = np.ones(len(X), dtype=int)\n",
    "ground_truth[-n_outliers:] = -1\n",
    "\n",
    "PercFraud = n_outliers / X_test.shape[0]\n",
    "PercFraud\n",
    "\n",
    "print('X_inliers ', X_inliers.shape)\n",
    "print('X_outliers ', X_outliers.shape)\n",
    "print('X ', X.shape)\n",
    "print('n_outliers ', n_outliers)\n",
    "print('percent fraud in test: ', PercFraud)"
   ]
  },
  {
   "cell_type": "code",
   "execution_count": 13,
   "metadata": {},
   "outputs": [],
   "source": [
    "clf = LocalOutlierFactor(n_neighbors=900, contamination = PercFraud)\n",
    "\n",
    "y_pred = clf.fit_predict(X)\n",
    "n_errors = (y_pred != ground_truth).sum()\n",
    "X_scores = clf.negative_outlier_factor_\n",
    "#print('accuracy ' , round(1 - (n_errors / X.shape[0]),4))"
   ]
  },
  {
   "cell_type": "code",
   "execution_count": 14,
   "metadata": {},
   "outputs": [
    {
     "data": {
      "text/plain": [
       "420"
      ]
     },
     "execution_count": 14,
     "metadata": {},
     "output_type": "execute_result"
    }
   ],
   "source": [
    "n_errors"
   ]
  },
  {
   "cell_type": "code",
   "execution_count": 15,
   "metadata": {},
   "outputs": [
    {
     "name": "stdout",
     "output_type": "stream",
     "text": [
      "precision  0.5732\n",
      "recall  0.5732\n",
      "F1 score on Test 0.5732\n"
     ]
    }
   ],
   "source": [
    "y_predLOF = y_pred.copy()\n",
    "y_predDF = pd.DataFrame(y_predLOF)\n",
    "\n",
    "y_predDF[y_predDF[0] == 1] = 0\n",
    "y_predDF[y_predDF[0] == -1] = 1\n",
    "\n",
    "y_predLOF = y_predDF.values\n",
    "y_predLOF = np.ravel(y_predLOF)\n",
    "\n",
    "# F1 Score\n",
    "#print(\"F1 score\", round(f1_score(y_valid,pred, average='binary'), 4))\n",
    "precision,recall,fbeta_score, support  = precision_recall_fscore_support(y_test, y_predLOF, average='binary')\n",
    "print(\"precision \", round((precision), 4))\n",
    "print(\"recall \", round((recall), 4))\n",
    "print(\"F1 score on Test\", round((fbeta_score), 4))"
   ]
  },
  {
   "cell_type": "code",
   "execution_count": null,
   "metadata": {},
   "outputs": [],
   "source": []
  }
 ],
 "metadata": {
  "kernelspec": {
   "display_name": "Python 3.10.8 64-bit",
   "language": "python",
   "name": "python3"
  },
  "language_info": {
   "codemirror_mode": {
    "name": "ipython",
    "version": 3
   },
   "file_extension": ".py",
   "mimetype": "text/x-python",
   "name": "python",
   "nbconvert_exporter": "python",
   "pygments_lexer": "ipython3",
   "version": "3.10.8"
  },
  "orig_nbformat": 4,
  "vscode": {
   "interpreter": {
    "hash": "aee8b7b246df8f9039afb4144a1f6fd8d2ca17a180786b69acc140d282b71a49"
   }
  }
 },
 "nbformat": 4,
 "nbformat_minor": 2
}
