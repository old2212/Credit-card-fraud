{
 "cells": [
  {
   "cell_type": "markdown",
   "metadata": {},
   "source": [
    "# Credit Card Fraud Detection\n",
    "Anonymized credit card transactions labeled as fraudulent or genuine"
   ]
  },
  {
   "cell_type": "markdown",
   "metadata": {},
   "source": [
    "## Mission objectives\n",
    "\n",
    "Experience the specificities of anomaly detection\n",
    "Tackle severely imbalanced datasets\n",
    "Learn to collaborate and spread knowledge effectively as a pluri-disciplinary team\n",
    "Deploy a dashboard using Tableau\n",
    "\n",
    "## The Mission\n",
    "\n",
    "You are a team of freelance data scientists lending a hand to a Belgian bank. They asked you to analyse a dataset of credit card transactions and come up with a model that flags those potentially fraudulent. For confidentiality reasons, they cannot share the original data (see dataset explanations) but the transactions are otherwise real.\n",
    "\n",
    "You will quickly evaluate the different methods at your disposal and select the 3 most appropriate. From there, you will find a scientific way to test them on your dataset. All the scripts (even python ones) and visualizations must be run from Tableau."
   ]
  },
  {
   "cell_type": "markdown",
   "metadata": {},
   "source": [
    "## Load Data"
   ]
  },
  {
   "cell_type": "code",
   "execution_count": 62,
   "metadata": {},
   "outputs": [
    {
     "name": "stdout",
     "output_type": "stream",
     "text": [
      "Numpy version : Numpy 1.23.4\n",
      "Pandas version : Pandas 1.5.0\n",
      "Matplotlib version : Matplotlib 3.6.1\n",
      "Seaborn version : Seaborn 0.12.0\n",
      "SkLearn version : SkLearn 1.1.2\n",
      "Plotly version : plotly 5.10.0\n"
     ]
    }
   ],
   "source": [
    "# Import Libraries\n",
    "import warnings\n",
    "warnings.filterwarnings('ignore')\n",
    "\n",
    "import numpy as np\n",
    "import pandas as pd\n",
    "import matplotlib.pyplot as plt\n",
    "import seaborn as sns\n",
    "# import cufflinks as cf\n",
    "import plotly\n",
    "import datetime\n",
    "import math\n",
    "import matplotlib\n",
    "import sklearn\n",
    "from IPython.display import HTML\n",
    "#from IPython.display import YouTubeVideo\n",
    "\n",
    "import pickle\n",
    "import os\n",
    "\n",
    "import plotly.express as px\n",
    "import plotly.graph_objects as go\n",
    "import plotly.figure_factory as ff\n",
    "from plotly.subplots import make_subplots\n",
    "\n",
    "from sklearn.model_selection import train_test_split\n",
    "\n",
    "# Print versions of libraries\n",
    "print(f\"Numpy version : Numpy {np.__version__}\")\n",
    "print(f\"Pandas version : Pandas {pd.__version__}\")\n",
    "print(f\"Matplotlib version : Matplotlib {matplotlib.__version__}\")\n",
    "print(f\"Seaborn version : Seaborn {sns.__version__}\")\n",
    "print(f\"SkLearn version : SkLearn {sklearn.__version__}\")\n",
    "# print(f\"Cufflinks version : cufflinks {cf.__version__}\")\n",
    "print(f\"Plotly version : plotly {plotly.__version__}\")\n",
    "\n",
    "# Magic Functions for In-Notebook Display\n",
    "%matplotlib inline\n",
    "\n",
    "# Setting seabon style\n",
    "sns.set(style='darkgrid', palette='colorblind')\n",
    "\n",
    "pd.options.display.max_rows = 100\n",
    "pd.options.display.max_columns = 100"
   ]
  },
  {
   "cell_type": "markdown",
   "metadata": {},
   "source": [
    "Import dataset"
   ]
  },
  {
   "cell_type": "code",
   "execution_count": 63,
   "metadata": {},
   "outputs": [
    {
     "name": "stdout",
     "output_type": "stream",
     "text": [
      "(284807, 31)\n"
     ]
    },
    {
     "data": {
      "text/html": [
       "<div>\n",
       "<style scoped>\n",
       "    .dataframe tbody tr th:only-of-type {\n",
       "        vertical-align: middle;\n",
       "    }\n",
       "\n",
       "    .dataframe tbody tr th {\n",
       "        vertical-align: top;\n",
       "    }\n",
       "\n",
       "    .dataframe thead th {\n",
       "        text-align: right;\n",
       "    }\n",
       "</style>\n",
       "<table border=\"1\" class=\"dataframe\">\n",
       "  <thead>\n",
       "    <tr style=\"text-align: right;\">\n",
       "      <th></th>\n",
       "      <th>time</th>\n",
       "      <th>v1</th>\n",
       "      <th>v2</th>\n",
       "      <th>v3</th>\n",
       "      <th>v4</th>\n",
       "      <th>v5</th>\n",
       "      <th>v6</th>\n",
       "      <th>v7</th>\n",
       "      <th>v8</th>\n",
       "      <th>v9</th>\n",
       "      <th>v10</th>\n",
       "      <th>v11</th>\n",
       "      <th>v12</th>\n",
       "      <th>v13</th>\n",
       "      <th>v14</th>\n",
       "      <th>v15</th>\n",
       "      <th>v16</th>\n",
       "      <th>v17</th>\n",
       "      <th>v18</th>\n",
       "      <th>v19</th>\n",
       "      <th>v20</th>\n",
       "      <th>v21</th>\n",
       "      <th>v22</th>\n",
       "      <th>v23</th>\n",
       "      <th>v24</th>\n",
       "      <th>v25</th>\n",
       "      <th>v26</th>\n",
       "      <th>v27</th>\n",
       "      <th>v28</th>\n",
       "      <th>amount</th>\n",
       "      <th>class</th>\n",
       "    </tr>\n",
       "  </thead>\n",
       "  <tbody>\n",
       "    <tr>\n",
       "      <th>0</th>\n",
       "      <td>0.0</td>\n",
       "      <td>-1.359807</td>\n",
       "      <td>-0.072781</td>\n",
       "      <td>2.536347</td>\n",
       "      <td>1.378155</td>\n",
       "      <td>-0.338321</td>\n",
       "      <td>0.462388</td>\n",
       "      <td>0.239599</td>\n",
       "      <td>0.098698</td>\n",
       "      <td>0.363787</td>\n",
       "      <td>0.090794</td>\n",
       "      <td>-0.551600</td>\n",
       "      <td>-0.617801</td>\n",
       "      <td>-0.991390</td>\n",
       "      <td>-0.311169</td>\n",
       "      <td>1.468177</td>\n",
       "      <td>-0.470401</td>\n",
       "      <td>0.207971</td>\n",
       "      <td>0.025791</td>\n",
       "      <td>0.403993</td>\n",
       "      <td>0.251412</td>\n",
       "      <td>-0.018307</td>\n",
       "      <td>0.277838</td>\n",
       "      <td>-0.110474</td>\n",
       "      <td>0.066928</td>\n",
       "      <td>0.128539</td>\n",
       "      <td>-0.189115</td>\n",
       "      <td>0.133558</td>\n",
       "      <td>-0.021053</td>\n",
       "      <td>149.62</td>\n",
       "      <td>0</td>\n",
       "    </tr>\n",
       "    <tr>\n",
       "      <th>1</th>\n",
       "      <td>0.0</td>\n",
       "      <td>1.191857</td>\n",
       "      <td>0.266151</td>\n",
       "      <td>0.166480</td>\n",
       "      <td>0.448154</td>\n",
       "      <td>0.060018</td>\n",
       "      <td>-0.082361</td>\n",
       "      <td>-0.078803</td>\n",
       "      <td>0.085102</td>\n",
       "      <td>-0.255425</td>\n",
       "      <td>-0.166974</td>\n",
       "      <td>1.612727</td>\n",
       "      <td>1.065235</td>\n",
       "      <td>0.489095</td>\n",
       "      <td>-0.143772</td>\n",
       "      <td>0.635558</td>\n",
       "      <td>0.463917</td>\n",
       "      <td>-0.114805</td>\n",
       "      <td>-0.183361</td>\n",
       "      <td>-0.145783</td>\n",
       "      <td>-0.069083</td>\n",
       "      <td>-0.225775</td>\n",
       "      <td>-0.638672</td>\n",
       "      <td>0.101288</td>\n",
       "      <td>-0.339846</td>\n",
       "      <td>0.167170</td>\n",
       "      <td>0.125895</td>\n",
       "      <td>-0.008983</td>\n",
       "      <td>0.014724</td>\n",
       "      <td>2.69</td>\n",
       "      <td>0</td>\n",
       "    </tr>\n",
       "    <tr>\n",
       "      <th>2</th>\n",
       "      <td>1.0</td>\n",
       "      <td>-1.358354</td>\n",
       "      <td>-1.340163</td>\n",
       "      <td>1.773209</td>\n",
       "      <td>0.379780</td>\n",
       "      <td>-0.503198</td>\n",
       "      <td>1.800499</td>\n",
       "      <td>0.791461</td>\n",
       "      <td>0.247676</td>\n",
       "      <td>-1.514654</td>\n",
       "      <td>0.207643</td>\n",
       "      <td>0.624501</td>\n",
       "      <td>0.066084</td>\n",
       "      <td>0.717293</td>\n",
       "      <td>-0.165946</td>\n",
       "      <td>2.345865</td>\n",
       "      <td>-2.890083</td>\n",
       "      <td>1.109969</td>\n",
       "      <td>-0.121359</td>\n",
       "      <td>-2.261857</td>\n",
       "      <td>0.524980</td>\n",
       "      <td>0.247998</td>\n",
       "      <td>0.771679</td>\n",
       "      <td>0.909412</td>\n",
       "      <td>-0.689281</td>\n",
       "      <td>-0.327642</td>\n",
       "      <td>-0.139097</td>\n",
       "      <td>-0.055353</td>\n",
       "      <td>-0.059752</td>\n",
       "      <td>378.66</td>\n",
       "      <td>0</td>\n",
       "    </tr>\n",
       "    <tr>\n",
       "      <th>3</th>\n",
       "      <td>1.0</td>\n",
       "      <td>-0.966272</td>\n",
       "      <td>-0.185226</td>\n",
       "      <td>1.792993</td>\n",
       "      <td>-0.863291</td>\n",
       "      <td>-0.010309</td>\n",
       "      <td>1.247203</td>\n",
       "      <td>0.237609</td>\n",
       "      <td>0.377436</td>\n",
       "      <td>-1.387024</td>\n",
       "      <td>-0.054952</td>\n",
       "      <td>-0.226487</td>\n",
       "      <td>0.178228</td>\n",
       "      <td>0.507757</td>\n",
       "      <td>-0.287924</td>\n",
       "      <td>-0.631418</td>\n",
       "      <td>-1.059647</td>\n",
       "      <td>-0.684093</td>\n",
       "      <td>1.965775</td>\n",
       "      <td>-1.232622</td>\n",
       "      <td>-0.208038</td>\n",
       "      <td>-0.108300</td>\n",
       "      <td>0.005274</td>\n",
       "      <td>-0.190321</td>\n",
       "      <td>-1.175575</td>\n",
       "      <td>0.647376</td>\n",
       "      <td>-0.221929</td>\n",
       "      <td>0.062723</td>\n",
       "      <td>0.061458</td>\n",
       "      <td>123.50</td>\n",
       "      <td>0</td>\n",
       "    </tr>\n",
       "    <tr>\n",
       "      <th>4</th>\n",
       "      <td>2.0</td>\n",
       "      <td>-1.158233</td>\n",
       "      <td>0.877737</td>\n",
       "      <td>1.548718</td>\n",
       "      <td>0.403034</td>\n",
       "      <td>-0.407193</td>\n",
       "      <td>0.095921</td>\n",
       "      <td>0.592941</td>\n",
       "      <td>-0.270533</td>\n",
       "      <td>0.817739</td>\n",
       "      <td>0.753074</td>\n",
       "      <td>-0.822843</td>\n",
       "      <td>0.538196</td>\n",
       "      <td>1.345852</td>\n",
       "      <td>-1.119670</td>\n",
       "      <td>0.175121</td>\n",
       "      <td>-0.451449</td>\n",
       "      <td>-0.237033</td>\n",
       "      <td>-0.038195</td>\n",
       "      <td>0.803487</td>\n",
       "      <td>0.408542</td>\n",
       "      <td>-0.009431</td>\n",
       "      <td>0.798278</td>\n",
       "      <td>-0.137458</td>\n",
       "      <td>0.141267</td>\n",
       "      <td>-0.206010</td>\n",
       "      <td>0.502292</td>\n",
       "      <td>0.219422</td>\n",
       "      <td>0.215153</td>\n",
       "      <td>69.99</td>\n",
       "      <td>0</td>\n",
       "    </tr>\n",
       "  </tbody>\n",
       "</table>\n",
       "</div>"
      ],
      "text/plain": [
       "   time        v1        v2        v3        v4        v5        v6        v7  \\\n",
       "0   0.0 -1.359807 -0.072781  2.536347  1.378155 -0.338321  0.462388  0.239599   \n",
       "1   0.0  1.191857  0.266151  0.166480  0.448154  0.060018 -0.082361 -0.078803   \n",
       "2   1.0 -1.358354 -1.340163  1.773209  0.379780 -0.503198  1.800499  0.791461   \n",
       "3   1.0 -0.966272 -0.185226  1.792993 -0.863291 -0.010309  1.247203  0.237609   \n",
       "4   2.0 -1.158233  0.877737  1.548718  0.403034 -0.407193  0.095921  0.592941   \n",
       "\n",
       "         v8        v9       v10       v11       v12       v13       v14  \\\n",
       "0  0.098698  0.363787  0.090794 -0.551600 -0.617801 -0.991390 -0.311169   \n",
       "1  0.085102 -0.255425 -0.166974  1.612727  1.065235  0.489095 -0.143772   \n",
       "2  0.247676 -1.514654  0.207643  0.624501  0.066084  0.717293 -0.165946   \n",
       "3  0.377436 -1.387024 -0.054952 -0.226487  0.178228  0.507757 -0.287924   \n",
       "4 -0.270533  0.817739  0.753074 -0.822843  0.538196  1.345852 -1.119670   \n",
       "\n",
       "        v15       v16       v17       v18       v19       v20       v21  \\\n",
       "0  1.468177 -0.470401  0.207971  0.025791  0.403993  0.251412 -0.018307   \n",
       "1  0.635558  0.463917 -0.114805 -0.183361 -0.145783 -0.069083 -0.225775   \n",
       "2  2.345865 -2.890083  1.109969 -0.121359 -2.261857  0.524980  0.247998   \n",
       "3 -0.631418 -1.059647 -0.684093  1.965775 -1.232622 -0.208038 -0.108300   \n",
       "4  0.175121 -0.451449 -0.237033 -0.038195  0.803487  0.408542 -0.009431   \n",
       "\n",
       "        v22       v23       v24       v25       v26       v27       v28  \\\n",
       "0  0.277838 -0.110474  0.066928  0.128539 -0.189115  0.133558 -0.021053   \n",
       "1 -0.638672  0.101288 -0.339846  0.167170  0.125895 -0.008983  0.014724   \n",
       "2  0.771679  0.909412 -0.689281 -0.327642 -0.139097 -0.055353 -0.059752   \n",
       "3  0.005274 -0.190321 -1.175575  0.647376 -0.221929  0.062723  0.061458   \n",
       "4  0.798278 -0.137458  0.141267 -0.206010  0.502292  0.219422  0.215153   \n",
       "\n",
       "   amount  class  \n",
       "0  149.62      0  \n",
       "1    2.69      0  \n",
       "2  378.66      0  \n",
       "3  123.50      0  \n",
       "4   69.99      0  "
      ]
     },
     "execution_count": 63,
     "metadata": {},
     "output_type": "execute_result"
    }
   ],
   "source": [
    "df = pd.read_csv('creditcard.csv', encoding='latin_1')\n",
    "df.columns = df.columns.str.lower()\n",
    "print(df.shape)\n",
    "df.head()"
   ]
  },
  {
   "cell_type": "code",
   "execution_count": 64,
   "metadata": {},
   "outputs": [],
   "source": [
    "# #Count unique values of label\n",
    "\n",
    "# print(df['class'].value_counts())\n",
    "# print('\\n')\n",
    "# print(df['class'].value_counts(normalize=True))"
   ]
  },
  {
   "cell_type": "code",
   "execution_count": 65,
   "metadata": {},
   "outputs": [],
   "source": [
    "# df[\"class\"].value_counts().plot(kind = 'pie',explode=[0, 0.1],figsize=(6, 6),autopct='%1.1f%%',shadow=False)\n",
    "# plt.title(\"Fraudulent and Non-Fraudulent Distribution\",fontsize=20)\n",
    "# plt.legend([\"Genuine\",\"Fraud\"])\n",
    "# plt.show()"
   ]
  },
  {
   "cell_type": "code",
   "execution_count": 66,
   "metadata": {},
   "outputs": [],
   "source": [
    "#Finding null values\n",
    "\n",
    "# Dealing with missing data\n",
    "# df.isnull().sum().max()"
   ]
  },
  {
   "cell_type": "code",
   "execution_count": 67,
   "metadata": {},
   "outputs": [],
   "source": [
    "\n",
    "# fig, axs = plt.subplots(ncols=2,figsize=(16,4))\n",
    "# sns.distplot(df[df['class'] == 1]['amount'], bins=100, ax=axs[0])\n",
    "# axs[0].set_title(\"Distribution of Fraud Transactions\")\n",
    "\n",
    "# sns.distplot(df[df['class'] == 0]['amount'], bins=100, ax=axs[1])\n",
    "# axs[1].set_title(\"Distribution of Genuine Transactions\")\n",
    "\n",
    "# plt.show()"
   ]
  },
  {
   "cell_type": "markdown",
   "metadata": {},
   "source": [
    "Highlights\n",
    "\n",
    "This graph shows that most of the fraud transaction amount is less than 500 dollars. This also shows that the fraud transaction is very high for an amount near to 0, let's find that amount."
   ]
  },
  {
   "cell_type": "code",
   "execution_count": 68,
   "metadata": {},
   "outputs": [],
   "source": [
    "# print(\"Fraud Transaction distribution : \\n\",df[(df['class'] == 1)]['amount'].value_counts().head())\n",
    "# print(\"\\n\")\n",
    "# print(\"Maximum amount of fraud transaction - \",df[(df['class'] == 1)]['amount'].max())\n",
    "# print(\"Minimum amount of fraud transaction - \",df[(df['class'] == 1)]['amount'].min())"
   ]
  },
  {
   "cell_type": "markdown",
   "metadata": {},
   "source": [
    "Highlights\n",
    "\n",
    "There are 113 fraud transactions for just one dollor and 27 fraud transaction for $99.99. And higest fraud transaction amount was 2125.87 and lowest was just 0.00.\n",
    "There are 27 fraud transaction for zero amount. Zero Authorization is an account verification method for credit cards that is used to verify a cardholders information without charging the consumer. Instead, an amount of zero is charged on the card to store the credit card information in the form of a token and to determine whether the card is legitimate or not. After creating the token, is then possible to charge the consumer with a new transaction with either Tokenization or Recurring Payments"
   ]
  },
  {
   "cell_type": "code",
   "execution_count": 69,
   "metadata": {},
   "outputs": [],
   "source": [
    "# print(\"Genuine Transaction distribution : \\n\",df[(df['class'] == 0)]['amount'].value_counts().head())\n",
    "# print(\"\\n\")\n",
    "# print(\"Maximum amount of Genuine transaction - \",df[(df['class'] == 0)]['amount'].max())\n",
    "# print(\"Minimum amount of Genuine transaction - \",df[(df['class'] == 0)]['amount'].min())"
   ]
  },
  {
   "cell_type": "code",
   "execution_count": 70,
   "metadata": {},
   "outputs": [],
   "source": [
    "# #Distribution of time\n",
    "# plt.figure(figsize=(8,6))\n",
    "# plt.title('Distribution of Transaction Time', fontsize=14)\n",
    "# sns.distplot(df['time'], bins=100)\n",
    "# plt.show()"
   ]
  },
  {
   "cell_type": "markdown",
   "metadata": {},
   "source": [
    "Highlights\n",
    "\n",
    "By seeing the graph, we can see there are two peaks in the graph and even there are some local peaks. We can think of these as the time of the day like the peak is the day time when most people do the transactions and the depth is the night time when most people just sleeps. We already know that data contains a credit card transaction for only two days, so there are two peaks for day time and one depth for one night time."
   ]
  },
  {
   "cell_type": "code",
   "execution_count": 71,
   "metadata": {},
   "outputs": [],
   "source": [
    "# #Distribution of time w.r.t. transactions types¶\n",
    "\n",
    "\n",
    "# fig, axs = plt.subplots(ncols=2, figsize=(16,4))\n",
    "\n",
    "# sns.distplot(df[(df['class'] == 1)]['time'], bins=100, color='red', ax=axs[0])\n",
    "# axs[0].set_title(\"Distribution of Fraud Transactions\")\n",
    "\n",
    "# sns.distplot(df[(df['class'] == 0)]['time'], bins=100, color='green', ax=axs[1])\n",
    "# axs[1].set_title(\"Distribution of Genuine Transactions\")\n",
    "\n",
    "# plt.show()"
   ]
  },
  {
   "cell_type": "code",
   "execution_count": null,
   "metadata": {},
   "outputs": [],
   "source": []
  },
  {
   "cell_type": "markdown",
   "metadata": {},
   "source": [
    "## Correlation Among Explanatory Variables\n",
    "Having too many features in a model is not always a good thing because it might cause overfitting and worse results when we want to predict values for a new dataset. Thus, if a feature does not improve your model a lot, not adding it may be a better choice.\n",
    "\n",
    "Another important thing is correlation. If there is a very high correlation between two features, keeping both of them is not a good idea most of the time not to cause overfitting. However, this does not mean that you must remove one of the highly correlated features.\n",
    "\n",
    "Let's find out top 10 features which are highly correlated with a price."
   ]
  },
  {
   "cell_type": "code",
   "execution_count": 72,
   "metadata": {},
   "outputs": [],
   "source": [
    "# df[['time','amount','class']].corr()['class'].sort_values(ascending=False).head(10)"
   ]
  },
  {
   "cell_type": "code",
   "execution_count": 73,
   "metadata": {},
   "outputs": [],
   "source": [
    "# plt.title('Pearson Correlation Matrix')\n",
    "# sns.heatmap(df[['time', 'amount','class']].corr(),linewidths=0.25,vmax=0.7,square=True,cmap=\"winter\",\n",
    "#             linecolor='w',annot=True);"
   ]
  },
  {
   "cell_type": "markdown",
   "metadata": {},
   "source": [
    "Highlights\n",
    "\n",
    "It looks like that no features are highly correlated with any other features."
   ]
  },
  {
   "cell_type": "code",
   "execution_count": 74,
   "metadata": {},
   "outputs": [],
   "source": [
    "#Lets check the data again after cleaning\n",
    "\n",
    "# df.shape"
   ]
  },
  {
   "cell_type": "code",
   "execution_count": 75,
   "metadata": {},
   "outputs": [],
   "source": [
    "# df.shape\n"
   ]
  },
  {
   "cell_type": "code",
   "execution_count": 76,
   "metadata": {},
   "outputs": [],
   "source": [
    "#Feature Engineering\n",
    "\n",
    "# df.hist(figsize = (25,25))\n",
    "# plt.show()"
   ]
  },
  {
   "cell_type": "code",
   "execution_count": 77,
   "metadata": {},
   "outputs": [],
   "source": [
    "#Reset the index\n",
    "\n",
    "# df.reset_index(inplace = True , drop = True)"
   ]
  },
  {
   "cell_type": "code",
   "execution_count": 78,
   "metadata": {},
   "outputs": [],
   "source": [
    "# df.head()"
   ]
  },
  {
   "cell_type": "markdown",
   "metadata": {},
   "source": [
    "## Tutorial 1"
   ]
  },
  {
   "cell_type": "code",
   "execution_count": 79,
   "metadata": {},
   "outputs": [
    {
     "data": {
      "image/png": "[encoded data removed]",
      "text/plain": [
       "<Figure size 640x480 with 1 Axes>"
      ]
     },
     "metadata": {},
     "output_type": "display_data"
    }
   ],
   "source": [
    "import numpy as np\n",
    "import matplotlib.pyplot as plt\n",
    "from sklearn.neighbors import LocalOutlierFactor\n",
    "\n",
    "np.random.seed(42)\n",
    "\n",
    "\n",
    "# Generate train data\n",
    "X_inliers = 0.3 * np.random.randn(100, 2)\n",
    "X_inliers = np.r_[X_inliers + 2, X_inliers - 2]\n",
    "\n",
    "# Generate some outliers\n",
    "X_outliers = np.random.uniform(low=-4, high=4, size=(20, 2))\n",
    "X = np.r_[X_inliers, X_outliers]\n",
    "\n",
    "n_outliers = len(X_outliers)\n",
    "ground_truth = np.ones(len(X), dtype=int)\n",
    "ground_truth[-n_outliers:] = -1\n",
    "\n",
    "# fit the model for outlier detection (default)\n",
    "clf = LocalOutlierFactor(n_neighbors=20, contamination=0.1)\n",
    "# use fit_predict to compute the predicted labels of the training samples\n",
    "# (when LOF is used for outlier detection, the estimator has no predict,\n",
    "# decision_function and score_samples methods).\n",
    "y_pred = clf.fit_predict(X)\n",
    "n_errors = (y_pred != ground_truth).sum()\n",
    "X_scores = clf.negative_outlier_factor_\n",
    "\n",
    "plt.title(\"Local Outlier Factor (LOF)\")\n",
    "plt.scatter(X[:, 0], X[:, 1], color=\"k\", s=3.0, label=\"Data points\")\n",
    "# plot circles with radius proportional to the outlier scores\n",
    "radius = (X_scores.max() - X_scores) / (X_scores.max() - X_scores.min())\n",
    "plt.scatter(\n",
    "    X[:, 0],\n",
    "    X[:, 1],\n",
    "    s=1000 * radius,\n",
    "    edgecolors=\"r\",\n",
    "    facecolors=\"none\",\n",
    "    label=\"Outlier scores\",\n",
    ")\n",
    "plt.axis(\"tight\")\n",
    "plt.xlim((-5, 5))\n",
    "plt.ylim((-5, 5))\n",
    "plt.xlabel(\"prediction errors: %d\" % (n_errors))\n",
    "legend = plt.legend(loc=\"upper left\")\n",
    "legend.legendHandles[0]._sizes = [10]\n",
    "legend.legendHandles[1]._sizes = [20]\n",
    "plt.show()"
   ]
  },
  {
   "cell_type": "markdown",
   "metadata": {},
   "source": [
    "## Tutorial 2"
   ]
  },
  {
   "cell_type": "code",
   "execution_count": 80,
   "metadata": {},
   "outputs": [
    {
     "data": {
      "image/png": "[encoded data removed]",
      "text/plain": [
       "<Figure size 640x480 with 1 Axes>"
      ]
     },
     "metadata": {},
     "output_type": "display_data"
    }
   ],
   "source": [
    "#tutorial 2\n",
    "\n",
    "import numpy as np\n",
    "import matplotlib\n",
    "import matplotlib.pyplot as plt\n",
    "from sklearn.neighbors import LocalOutlierFactor\n",
    "\n",
    "np.random.seed(42)\n",
    "\n",
    "xx, yy = np.meshgrid(np.linspace(-5, 5, 500), np.linspace(-5, 5, 500))\n",
    "\n",
    "# Generate normal (not abnormal) training observations\n",
    "X = 0.3 * np.random.randn(100, 2)\n",
    "X_train = np.r_[X + 2, X - 2]\n",
    "\n",
    "# Generate new normal (not abnormal) observations\n",
    "X = 0.3 * np.random.randn(20, 2)\n",
    "X_test = np.r_[X + 2, X - 2]\n",
    "\n",
    "# Generate some abnormal novel observations\n",
    "X_outliers = np.random.uniform(low=-4, high=4, size=(20, 2))\n",
    "\n",
    "# fit the model for novelty detection (novelty=True)\n",
    "clf = LocalOutlierFactor(n_neighbors=20, novelty=True, contamination=0.1)\n",
    "clf.fit(X_train)\n",
    "\n",
    "# DO NOT use predict, decision_function and score_samples on X_train as this\n",
    "# would give wrong results but only on new unseen data (not used in X_train),\n",
    "# e.g. X_test, X_outliers or the meshgrid\n",
    "y_pred_test = clf.predict(X_test)\n",
    "y_pred_outliers = clf.predict(X_outliers)\n",
    "n_error_test = y_pred_test[y_pred_test == -1].size\n",
    "n_error_outliers = y_pred_outliers[y_pred_outliers == 1].size\n",
    "\n",
    "# plot the learned frontier, the points, and the nearest vectors to the plane\n",
    "Z = clf.decision_function(np.c_[xx.ravel(), yy.ravel()])\n",
    "Z = Z.reshape(xx.shape)\n",
    "\n",
    "plt.title(\"Novelty Detection with LOF\")\n",
    "plt.contourf(xx, yy, Z, levels=np.linspace(Z.min(), 0, 7), cmap=plt.cm.PuBu)\n",
    "a = plt.contour(xx, yy, Z, levels=[0], linewidths=2, colors='darkred')\n",
    "plt.contourf(xx, yy, Z, levels=[0, Z.max()], colors='palevioletred')\n",
    "\n",
    "\n",
    "s = 40\n",
    "b1 = plt.scatter(X_train[:, 0], X_train[:, 1], c='white', s=s, edgecolors='k')\n",
    "b2 = plt.scatter(X_test[:, 0], X_test[:, 1], c='blueviolet', s=s,\n",
    "                 edgecolors='k')\n",
    "c = plt.scatter(X_outliers[:, 0], X_outliers[:, 1], c='gold', s=s,\n",
    "                edgecolors='k')\n",
    "\n",
    "plt.axis('tight')\n",
    "plt.xlim((-5, 5))\n",
    "plt.ylim((-5, 5))\n",
    "plt.legend([a.collections[0], b1, b2, c],\n",
    "           [\"learned frontier\", \"training observations\",\n",
    "            \"new regular observations\", \"new abnormal observations\"],\n",
    "           loc=\"upper left\",\n",
    "           prop=matplotlib.font_manager.FontProperties(size=11))\n",
    "plt.xlabel(\n",
    "    \"errors novel regular: %d/40 ; errors novel abnormal: %d/40\"\n",
    "    % (n_error_test, n_error_outliers))\n",
    "plt.show()"
   ]
  },
  {
   "cell_type": "markdown",
   "metadata": {},
   "source": [
    "## Turtorial 3"
   ]
  },
  {
   "cell_type": "code",
   "execution_count": 81,
   "metadata": {},
   "outputs": [],
   "source": [
    "# from sklearn.neighbors import LocalOutlierFactor\n",
    "# from sklearn.datasets import make_blobs\n",
    "#from numpy import quantile, where, random\n",
    "# import matplotlib.pyplot as plt\n",
    "\n",
    "# random.seed(1)\n",
    "# x, _ = make_blobs(n_samples=200, centers=1, cluster_std=.3, center_box=(10,10))\n",
    "\n",
    "# plt.scatter(x[:,0], x[:,1])\n",
    "# plt.show()\n",
    "\n",
    "# lof = LocalOutlierFactor(n_neighbors=20, contamination=.03)\n",
    "# #print(thresh)  \n",
    "  \n",
    "# y_pred = lof.fit_predict(x)\n",
    "\n",
    "# lofs_index=where(y_pred==-1)\n",
    "# values = x[lofs_index]\n",
    "\n",
    "# plt.scatter(x[:,0], x[:,1])\n",
    "# plt.scatter(values[:,0],values[:,1], color='r')\n",
    "# plt.show()\n",
    "\n",
    "# model = LocalOutlierFactor(n_neighbors=20) \n",
    "# print(model)  \n",
    "# model.fit_predict(x) \n",
    "\n",
    "# lof = model.negative_outlier_factor_\n",
    "# thresh = quantile(lof, .03)\n",
    "# print(thresh) \n",
    "  \n",
    "# index = where(lof<=thresh)\n",
    "# values = x[index]\n",
    "\n",
    "# plt.scatter(x[:,0], x[:,1])\n",
    "# plt.scatter(values[:,0],values[:,1], color='r')\n",
    "# plt.show()"
   ]
  },
  {
   "cell_type": "markdown",
   "metadata": {},
   "source": [
    "## A few important notes:\n",
    "LOF will identify an outlier based on the density of its neighborhood. \n",
    "LOF is used mostly when the density of the data is not the same throughout the dataset.\n",
    "To really understand how LOF works, we must go through a few concepts:\n",
    "\n",
    "#K-distance and K-neighbors:\n",
    "\n",
    "#Reachability distance (RD):\n",
    "\n",
    "#Local reachability density (LRD):\n",
    "\n",
    "#Local Outlier Factor (LOF):"
   ]
  },
  {
   "cell_type": "markdown",
   "metadata": {},
   "source": [
    "## LOF: Local Outlier Factor "
   ]
  },
  {
   "cell_type": "code",
   "execution_count": 82,
   "metadata": {},
   "outputs": [],
   "source": [
    "from sklearn.metrics import f1_score, confusion_matrix, classification_report, precision_recall_fscore_support\n",
    "from sklearn.preprocessing import StandardScaler\n",
    "from sklearn.neighbors import LocalOutlierFactor\n"
   ]
  },
  {
   "cell_type": "code",
   "execution_count": 83,
   "metadata": {},
   "outputs": [
    {
     "name": "stdout",
     "output_type": "stream",
     "text": [
      "(284807, 31)\n",
      "Index(['Time', 'V1', 'V2', 'V3', 'V4', 'V5', 'V6', 'V7', 'V8', 'V9', 'V10',\n",
      "       'V11', 'V12', 'V13', 'V14', 'V15', 'V16', 'V17', 'V18', 'V19', 'V20',\n",
      "       'V21', 'V22', 'V23', 'V24', 'V25', 'V26', 'V27', 'V28', 'Amount',\n",
      "       'Class'],\n",
      "      dtype='object')\n"
     ]
    }
   ],
   "source": [
    "dfRaw = pd.read_csv('creditcard.csv')\n",
    "print(dfRaw.shape)\n",
    "print(dfRaw.columns)"
   ]
  },
  {
   "cell_type": "code",
   "execution_count": 84,
   "metadata": {},
   "outputs": [
    {
     "name": "stdout",
     "output_type": "stream",
     "text": [
      "data  (284807, 31)\n",
      "normal_data  (284315, 31)\n",
      "fraud_data  (492, 31)\n",
      "Percent fraud  0.1727 %\n"
     ]
    }
   ],
   "source": [
    "#  SCALER / Normalization\n",
    "\n",
    "data = dfRaw.copy()\n",
    "scl = StandardScaler()\n",
    "\n",
    "all_cols = list(data)[:] \n",
    "pca_columns = list(data)[:-1] # all cols without Class\n",
    "Xcopy = data[pca_columns]\n",
    "XcopyALL = data[all_cols]\n",
    "Xscaled = scl.fit_transform(Xcopy) #\n",
    "OnlyClass = data['Class'].values.reshape(-1,1)\n",
    "\n",
    "data = np.concatenate((Xscaled, OnlyClass), axis=1)\n",
    "data = pd.DataFrame(data, columns = XcopyALL.columns)\n",
    "\n",
    "normal_data = data.loc[data[\"Class\"] == 0]\n",
    "fraud_data = data.loc[data[\"Class\"] == 1]\n",
    "\n",
    "print(\"data \", data.shape)\n",
    "print(\"normal_data \", normal_data.shape)\n",
    "print(\"fraud_data \", fraud_data.shape)\n",
    "print(\"Percent fraud \", round(100*492/284807, 4),\"%\")"
   ]
  },
  {
   "cell_type": "code",
   "execution_count": 85,
   "metadata": {},
   "outputs": [],
   "source": [
    "# normal_data.head()"
   ]
  },
  {
   "cell_type": "markdown",
   "metadata": {},
   "source": [
    "The following on the 75,492 test LOF w 20 neighbors takes 12 mins so for running multiple times to find the best num of neighbors - we'll reduce the test size"
   ]
  },
  {
   "cell_type": "code",
   "execution_count": 86,
   "metadata": {},
   "outputs": [
    {
     "name": "stdout",
     "output_type": "stream",
     "text": [
      "normal_pca_data  (284315, 30)\n",
      "fraud_pca_data (492, 30)\n",
      "Fraud data only in Test with NONE in the training\n",
      "X_train  (264315, 30)\n",
      "X_test  (20492, 30)\n",
      "y_test  (20492,)\n"
     ]
    }
   ],
   "source": [
    "# CREATE the TRAIN and TEST sets\n",
    "# Fraud data is ONLY in TEST - not in TRAIN\n",
    "\n",
    "normal_pca_data = normal_data[pca_columns]\n",
    "fraud_pca_data = fraud_data[pca_columns]\n",
    "\n",
    "num_test = 20000\n",
    "shuffled_data = normal_pca_data.sample(frac=1, random_state=1960)[:-num_test].values\n",
    "X_train = shuffled_data\n",
    "\n",
    "X_test = np.concatenate([normal_pca_data.sample(frac=1, random_state=1960)[-num_test:], fraud_pca_data[:492]])\n",
    "y_test = np.concatenate([np.zeros(num_test), np.ones(492)])\n",
    "\n",
    "print(\"normal_pca_data \", normal_pca_data.shape)\n",
    "print(\"fraud_pca_data\", fraud_pca_data.shape)\n",
    "print(\"Fraud data only in Test with NONE in the training\")\n",
    "print(\"X_train \", X_train.shape)\n",
    "#print(\"X_valid \", X_valid.shape)\n",
    "#print(\"y_valid \", y_valid.shape)\n",
    "print(\"X_test \", X_test.shape)\n",
    "print(\"y_test \", y_test.shape)"
   ]
  },
  {
   "cell_type": "code",
   "execution_count": 87,
   "metadata": {},
   "outputs": [
    {
     "data": {
      "text/html": [
       "<div>\n",
       "<style scoped>\n",
       "    .dataframe tbody tr th:only-of-type {\n",
       "        vertical-align: middle;\n",
       "    }\n",
       "\n",
       "    .dataframe tbody tr th {\n",
       "        vertical-align: top;\n",
       "    }\n",
       "\n",
       "    .dataframe thead th {\n",
       "        text-align: right;\n",
       "    }\n",
       "</style>\n",
       "<table border=\"1\" class=\"dataframe\">\n",
       "  <thead>\n",
       "    <tr style=\"text-align: right;\">\n",
       "      <th></th>\n",
       "      <th>Time</th>\n",
       "      <th>V1</th>\n",
       "      <th>V2</th>\n",
       "      <th>V3</th>\n",
       "      <th>V4</th>\n",
       "      <th>V5</th>\n",
       "      <th>V6</th>\n",
       "      <th>V7</th>\n",
       "      <th>V8</th>\n",
       "      <th>V9</th>\n",
       "      <th>V10</th>\n",
       "      <th>V11</th>\n",
       "      <th>V12</th>\n",
       "      <th>V13</th>\n",
       "      <th>V14</th>\n",
       "      <th>V15</th>\n",
       "      <th>V16</th>\n",
       "      <th>V17</th>\n",
       "      <th>V18</th>\n",
       "      <th>V19</th>\n",
       "      <th>V20</th>\n",
       "      <th>V21</th>\n",
       "      <th>V22</th>\n",
       "      <th>V23</th>\n",
       "      <th>V24</th>\n",
       "      <th>V25</th>\n",
       "      <th>V26</th>\n",
       "      <th>V27</th>\n",
       "      <th>V28</th>\n",
       "      <th>Amount</th>\n",
       "    </tr>\n",
       "  </thead>\n",
       "  <tbody>\n",
       "    <tr>\n",
       "      <th>0</th>\n",
       "      <td>-1.996583</td>\n",
       "      <td>-0.694242</td>\n",
       "      <td>-0.044075</td>\n",
       "      <td>1.672773</td>\n",
       "      <td>0.973366</td>\n",
       "      <td>-0.245117</td>\n",
       "      <td>0.347068</td>\n",
       "      <td>0.193679</td>\n",
       "      <td>0.082637</td>\n",
       "      <td>0.331128</td>\n",
       "      <td>0.083386</td>\n",
       "      <td>-0.540407</td>\n",
       "      <td>-0.618296</td>\n",
       "      <td>-0.996099</td>\n",
       "      <td>-0.324610</td>\n",
       "      <td>1.604014</td>\n",
       "      <td>-0.536833</td>\n",
       "      <td>0.244863</td>\n",
       "      <td>0.030770</td>\n",
       "      <td>0.496282</td>\n",
       "      <td>0.326118</td>\n",
       "      <td>-0.024923</td>\n",
       "      <td>0.382854</td>\n",
       "      <td>-0.176911</td>\n",
       "      <td>0.110507</td>\n",
       "      <td>0.246585</td>\n",
       "      <td>-0.392170</td>\n",
       "      <td>0.330892</td>\n",
       "      <td>-0.063781</td>\n",
       "      <td>0.244964</td>\n",
       "    </tr>\n",
       "    <tr>\n",
       "      <th>1</th>\n",
       "      <td>-1.996583</td>\n",
       "      <td>0.608496</td>\n",
       "      <td>0.161176</td>\n",
       "      <td>0.109797</td>\n",
       "      <td>0.316523</td>\n",
       "      <td>0.043483</td>\n",
       "      <td>-0.061820</td>\n",
       "      <td>-0.063700</td>\n",
       "      <td>0.071253</td>\n",
       "      <td>-0.232494</td>\n",
       "      <td>-0.153350</td>\n",
       "      <td>1.580003</td>\n",
       "      <td>1.066089</td>\n",
       "      <td>0.491418</td>\n",
       "      <td>-0.149982</td>\n",
       "      <td>0.694360</td>\n",
       "      <td>0.529434</td>\n",
       "      <td>-0.135170</td>\n",
       "      <td>-0.218763</td>\n",
       "      <td>-0.179086</td>\n",
       "      <td>-0.089611</td>\n",
       "      <td>-0.307377</td>\n",
       "      <td>-0.880077</td>\n",
       "      <td>0.162201</td>\n",
       "      <td>-0.561131</td>\n",
       "      <td>0.320694</td>\n",
       "      <td>0.261069</td>\n",
       "      <td>-0.022256</td>\n",
       "      <td>0.044608</td>\n",
       "      <td>-0.342475</td>\n",
       "    </tr>\n",
       "    <tr>\n",
       "      <th>2</th>\n",
       "      <td>-1.996562</td>\n",
       "      <td>-0.693500</td>\n",
       "      <td>-0.811578</td>\n",
       "      <td>1.169468</td>\n",
       "      <td>0.268231</td>\n",
       "      <td>-0.364572</td>\n",
       "      <td>1.351454</td>\n",
       "      <td>0.639776</td>\n",
       "      <td>0.207373</td>\n",
       "      <td>-1.378675</td>\n",
       "      <td>0.190700</td>\n",
       "      <td>0.611830</td>\n",
       "      <td>0.066137</td>\n",
       "      <td>0.720700</td>\n",
       "      <td>-0.173114</td>\n",
       "      <td>2.562906</td>\n",
       "      <td>-3.298235</td>\n",
       "      <td>1.306868</td>\n",
       "      <td>-0.144790</td>\n",
       "      <td>-2.778561</td>\n",
       "      <td>0.680975</td>\n",
       "      <td>0.337632</td>\n",
       "      <td>1.063358</td>\n",
       "      <td>1.456320</td>\n",
       "      <td>-1.138092</td>\n",
       "      <td>-0.628537</td>\n",
       "      <td>-0.288447</td>\n",
       "      <td>-0.137137</td>\n",
       "      <td>-0.181021</td>\n",
       "      <td>1.160686</td>\n",
       "    </tr>\n",
       "    <tr>\n",
       "      <th>3</th>\n",
       "      <td>-1.996562</td>\n",
       "      <td>-0.493325</td>\n",
       "      <td>-0.112169</td>\n",
       "      <td>1.182516</td>\n",
       "      <td>-0.609727</td>\n",
       "      <td>-0.007469</td>\n",
       "      <td>0.936150</td>\n",
       "      <td>0.192071</td>\n",
       "      <td>0.316018</td>\n",
       "      <td>-1.262503</td>\n",
       "      <td>-0.050468</td>\n",
       "      <td>-0.221892</td>\n",
       "      <td>0.178371</td>\n",
       "      <td>0.510169</td>\n",
       "      <td>-0.300360</td>\n",
       "      <td>-0.689837</td>\n",
       "      <td>-1.209296</td>\n",
       "      <td>-0.805445</td>\n",
       "      <td>2.345305</td>\n",
       "      <td>-1.514205</td>\n",
       "      <td>-0.269855</td>\n",
       "      <td>-0.147443</td>\n",
       "      <td>0.007267</td>\n",
       "      <td>-0.304777</td>\n",
       "      <td>-1.941027</td>\n",
       "      <td>1.241904</td>\n",
       "      <td>-0.460217</td>\n",
       "      <td>0.155396</td>\n",
       "      <td>0.186189</td>\n",
       "      <td>0.140534</td>\n",
       "    </tr>\n",
       "    <tr>\n",
       "      <th>4</th>\n",
       "      <td>-1.996541</td>\n",
       "      <td>-0.591330</td>\n",
       "      <td>0.531541</td>\n",
       "      <td>1.021412</td>\n",
       "      <td>0.284655</td>\n",
       "      <td>-0.295015</td>\n",
       "      <td>0.071999</td>\n",
       "      <td>0.479302</td>\n",
       "      <td>-0.226510</td>\n",
       "      <td>0.744326</td>\n",
       "      <td>0.691625</td>\n",
       "      <td>-0.806147</td>\n",
       "      <td>0.538627</td>\n",
       "      <td>1.352244</td>\n",
       "      <td>-1.168034</td>\n",
       "      <td>0.191323</td>\n",
       "      <td>-0.515205</td>\n",
       "      <td>-0.279081</td>\n",
       "      <td>-0.045569</td>\n",
       "      <td>0.987037</td>\n",
       "      <td>0.529939</td>\n",
       "      <td>-0.012839</td>\n",
       "      <td>1.100011</td>\n",
       "      <td>-0.220123</td>\n",
       "      <td>0.233250</td>\n",
       "      <td>-0.395202</td>\n",
       "      <td>1.041611</td>\n",
       "      <td>0.543620</td>\n",
       "      <td>0.651816</td>\n",
       "      <td>-0.073403</td>\n",
       "    </tr>\n",
       "  </tbody>\n",
       "</table>\n",
       "</div>"
      ],
      "text/plain": [
       "       Time        V1        V2        V3        V4        V5        V6  \\\n",
       "0 -1.996583 -0.694242 -0.044075  1.672773  0.973366 -0.245117  0.347068   \n",
       "1 -1.996583  0.608496  0.161176  0.109797  0.316523  0.043483 -0.061820   \n",
       "2 -1.996562 -0.693500 -0.811578  1.169468  0.268231 -0.364572  1.351454   \n",
       "3 -1.996562 -0.493325 -0.112169  1.182516 -0.609727 -0.007469  0.936150   \n",
       "4 -1.996541 -0.591330  0.531541  1.021412  0.284655 -0.295015  0.071999   \n",
       "\n",
       "         V7        V8        V9       V10       V11       V12       V13  \\\n",
       "0  0.193679  0.082637  0.331128  0.083386 -0.540407 -0.618296 -0.996099   \n",
       "1 -0.063700  0.071253 -0.232494 -0.153350  1.580003  1.066089  0.491418   \n",
       "2  0.639776  0.207373 -1.378675  0.190700  0.611830  0.066137  0.720700   \n",
       "3  0.192071  0.316018 -1.262503 -0.050468 -0.221892  0.178371  0.510169   \n",
       "4  0.479302 -0.226510  0.744326  0.691625 -0.806147  0.538627  1.352244   \n",
       "\n",
       "        V14       V15       V16       V17       V18       V19       V20  \\\n",
       "0 -0.324610  1.604014 -0.536833  0.244863  0.030770  0.496282  0.326118   \n",
       "1 -0.149982  0.694360  0.529434 -0.135170 -0.218763 -0.179086 -0.089611   \n",
       "2 -0.173114  2.562906 -3.298235  1.306868 -0.144790 -2.778561  0.680975   \n",
       "3 -0.300360 -0.689837 -1.209296 -0.805445  2.345305 -1.514205 -0.269855   \n",
       "4 -1.168034  0.191323 -0.515205 -0.279081 -0.045569  0.987037  0.529939   \n",
       "\n",
       "        V21       V22       V23       V24       V25       V26       V27  \\\n",
       "0 -0.024923  0.382854 -0.176911  0.110507  0.246585 -0.392170  0.330892   \n",
       "1 -0.307377 -0.880077  0.162201 -0.561131  0.320694  0.261069 -0.022256   \n",
       "2  0.337632  1.063358  1.456320 -1.138092 -0.628537 -0.288447 -0.137137   \n",
       "3 -0.147443  0.007267 -0.304777 -1.941027  1.241904 -0.460217  0.155396   \n",
       "4 -0.012839  1.100011 -0.220123  0.233250 -0.395202  1.041611  0.543620   \n",
       "\n",
       "        V28    Amount  \n",
       "0 -0.063781  0.244964  \n",
       "1  0.044608 -0.342475  \n",
       "2 -0.181021  1.160686  \n",
       "3  0.186189  0.140534  \n",
       "4  0.651816 -0.073403  "
      ]
     },
     "execution_count": 87,
     "metadata": {},
     "output_type": "execute_result"
    }
   ],
   "source": [
    "normal_pca_data.head()"
   ]
  },
  {
   "cell_type": "code",
   "execution_count": 88,
   "metadata": {},
   "outputs": [
    {
     "data": {
      "text/plain": [
       "array([[-1.6911589 ,  0.66619881,  0.00709956, ..., -0.16408763,\n",
       "        -0.02754838, -0.293458  ],\n",
       "       [ 0.69129248,  0.65498349, -0.5552245 , ..., -0.13243933,\n",
       "         0.12380107,  1.15264977],\n",
       "       [ 1.00745614,  0.99463714, -0.93390622, ..., -0.08195241,\n",
       "        -0.12431485,  0.16252373],\n",
       "       ...,\n",
       "       [-1.19389709,  0.02008085, -1.34309486, ..., -0.26476445,\n",
       "         0.27360628,  1.82264906],\n",
       "       [ 1.42265523,  0.00530938,  0.39967519, ...,  0.57831868,\n",
       "         0.24117623, -0.33171969],\n",
       "       [-0.71912514, -0.39223879,  0.72302399, ...,  0.57191935,\n",
       "         0.54780151, -0.3191657 ]])"
      ]
     },
     "execution_count": 88,
     "metadata": {},
     "output_type": "execute_result"
    }
   ],
   "source": [
    "X_train"
   ]
  },
  {
   "cell_type": "code",
   "execution_count": 89,
   "metadata": {},
   "outputs": [
    {
     "name": "stdout",
     "output_type": "stream",
     "text": [
      "X_inliers  (20000, 30)\n",
      "X_outliers  (492, 30)\n",
      "X  (20492, 30)\n",
      "n_outliers  492\n",
      "percent fraud in test:  0.024009369510052704\n"
     ]
    }
   ],
   "source": [
    "X_inliers = shuffled_data[-num_test:]\n",
    "X_outliers = fraud_pca_data[:]\n",
    "X = np.r_[X_inliers, X_outliers]\n",
    "\n",
    "n_outliers = len(X_outliers)\n",
    "ground_truth = np.ones(len(X), dtype=int)\n",
    "ground_truth[-n_outliers:] = -1\n",
    "\n",
    "PercFraud = n_outliers / X_test.shape[0]\n",
    "PercFraud\n",
    "\n",
    "print('X_inliers ', X_inliers.shape)\n",
    "print('X_outliers ', X_outliers.shape)\n",
    "print('X ', X.shape)\n",
    "print('n_outliers ', n_outliers)\n",
    "print('percent fraud in test: ', PercFraud)"
   ]
  },
  {
   "cell_type": "code",
   "execution_count": 90,
   "metadata": {},
   "outputs": [
    {
     "data": {
      "text/plain": [
       "934"
      ]
     },
     "execution_count": 90,
     "metadata": {},
     "output_type": "execute_result"
    }
   ],
   "source": [
    "# fit the model for outlier detection (default)\n",
    "clf = LocalOutlierFactor(n_neighbors=20, contamination = PercFraud)\n",
    "# use fit_predict to compute the predicted labels of the training samples\n",
    "# (when LOF is used for outlier detection, the estimator has no predict,\n",
    "# decision_function and score_samples methods).\n",
    "y_pred = clf.fit_predict(X)\n",
    "n_errors = (y_pred != ground_truth).sum()\n",
    "X_scores = clf.negative_outlier_factor_\n",
    "n_errors"
   ]
  },
  {
   "cell_type": "code",
   "execution_count": 91,
   "metadata": {},
   "outputs": [
    {
     "name": "stdout",
     "output_type": "stream",
     "text": [
      "accuracy  0.9544\n"
     ]
    }
   ],
   "source": [
    "print('accuracy ' , round(1 - (n_errors / X.shape[0]),4))"
   ]
  },
  {
   "cell_type": "code",
   "execution_count": 92,
   "metadata": {},
   "outputs": [
    {
     "name": "stdout",
     "output_type": "stream",
     "text": [
      "0    492\n",
      "dtype: int64\n",
      "0    492\n",
      "dtype: int64\n"
     ]
    }
   ],
   "source": [
    "# Note that the ground truth and the y_pred for LOF is different than the original ... inliers = normal = 1 and outliers = fraud = -1\n",
    "# We have to modify the y_pred for the F1 score calculation to be similar to the above \n",
    "\n",
    "y_predLOF = y_pred.copy()\n",
    "y_predDF = pd.DataFrame(y_predLOF)\n",
    "print(y_predDF[y_predDF[0] == -1].count())\n",
    "\n",
    "y_predDF[y_predDF[0] == 1] = 0\n",
    "y_predDF[y_predDF[0] == -1] = 1\n",
    "print(y_predDF[y_predDF[0] == 1].count())\n",
    "\n",
    "y_predLOF = y_predDF.values\n",
    "y_predLOF = np.ravel(y_predLOF)"
   ]
  },
  {
   "cell_type": "code",
   "execution_count": 93,
   "metadata": {},
   "outputs": [
    {
     "name": "stdout",
     "output_type": "stream",
     "text": [
      "precision  0.0508\n",
      "recall  0.0508\n",
      "F1 score on Test 0.0508\n"
     ]
    }
   ],
   "source": [
    "# F1 Score\n",
    "#print(\"F1 score\", round(f1_score(y_valid,pred, average='binary'), 4))\n",
    "precision,recall,fbeta_score, support  = precision_recall_fscore_support(y_test, y_predLOF, average='binary')\n",
    "print(\"precision \", round((precision), 4))\n",
    "print(\"recall \", round((recall), 4))\n",
    "print(\"F1 score on Test\", round((fbeta_score), 4))"
   ]
  },
  {
   "cell_type": "code",
   "execution_count": 94,
   "metadata": {},
   "outputs": [
    {
     "name": "stdout",
     "output_type": "stream",
     "text": [
      "F1 score on test 0.561  with num neighbors  500\n",
      "F1 score on test 0.5915  with num neighbors  600\n",
      "F1 score on test 0.6037  with num neighbors  700\n",
      "F1 score on test 0.6098  with num neighbors  800\n",
      "F1 score on test 0.6138  with num neighbors  900\n",
      "F1 score on test 0.6037  with num neighbors  1000\n"
     ]
    },
    {
     "data": {
      "text/html": [
       "<div>\n",
       "<style scoped>\n",
       "    .dataframe tbody tr th:only-of-type {\n",
       "        vertical-align: middle;\n",
       "    }\n",
       "\n",
       "    .dataframe tbody tr th {\n",
       "        vertical-align: top;\n",
       "    }\n",
       "\n",
       "    .dataframe thead th {\n",
       "        text-align: right;\n",
       "    }\n",
       "</style>\n",
       "<table border=\"1\" class=\"dataframe\">\n",
       "  <thead>\n",
       "    <tr style=\"text-align: right;\">\n",
       "      <th></th>\n",
       "      <th>NumNeighb</th>\n",
       "      <th>F1</th>\n",
       "    </tr>\n",
       "  </thead>\n",
       "  <tbody>\n",
       "    <tr>\n",
       "      <th>0</th>\n",
       "      <td>500</td>\n",
       "      <td>0.5610</td>\n",
       "    </tr>\n",
       "    <tr>\n",
       "      <th>1</th>\n",
       "      <td>600</td>\n",
       "      <td>0.5915</td>\n",
       "    </tr>\n",
       "    <tr>\n",
       "      <th>2</th>\n",
       "      <td>700</td>\n",
       "      <td>0.6037</td>\n",
       "    </tr>\n",
       "    <tr>\n",
       "      <th>3</th>\n",
       "      <td>800</td>\n",
       "      <td>0.6098</td>\n",
       "    </tr>\n",
       "    <tr>\n",
       "      <th>4</th>\n",
       "      <td>900</td>\n",
       "      <td>0.6138</td>\n",
       "    </tr>\n",
       "  </tbody>\n",
       "</table>\n",
       "</div>"
      ],
      "text/plain": [
       "   NumNeighb      F1\n",
       "0        500  0.5610\n",
       "1        600  0.5915\n",
       "2        700  0.6037\n",
       "3        800  0.6098\n",
       "4        900  0.6138"
      ]
     },
     "execution_count": 94,
     "metadata": {},
     "output_type": "execute_result"
    }
   ],
   "source": [
    "# Optimize num of neighbors hyper paramter for best F1\n",
    "\n",
    "minRE = 500\n",
    "maxRE = 1100\n",
    "    \n",
    "EpsF1 = []\n",
    "\n",
    "for TryRE in range(minRE,maxRE,100):\n",
    "    clf = LocalOutlierFactor(n_neighbors=TryRE, contamination = PercFraud)\n",
    "    y_pred = clf.fit_predict(X)\n",
    "    n_errors = (y_pred != ground_truth).sum()\n",
    "    X_scores = clf.negative_outlier_factor_\n",
    "    \n",
    "    y_predLOF = y_pred.copy()\n",
    "    y_predDF = pd.DataFrame(y_predLOF)\n",
    "    \n",
    "    y_predDF[y_predDF[0] == 1] = 0\n",
    "    y_predDF[y_predDF[0] == -1] = 1\n",
    "    \n",
    "    y_predLOF = y_predDF.values\n",
    "    y_predLOF = np.ravel(y_predLOF)\n",
    "    \n",
    "    precision,recall,fbeta_score, support  = precision_recall_fscore_support(y_test, y_predLOF, average='binary')\n",
    "    \n",
    "    print(\"F1 score on test\", round(fbeta_score,4), \" with num neighbors \", TryRE)\n",
    "    EpsF1.append([TryRE, round(fbeta_score,4)])\n",
    "    \n",
    "EpsF1df = pd.DataFrame(EpsF1, columns = ['NumNeighb', 'F1'])\n",
    "EpsF1df.head()"
   ]
  },
  {
   "cell_type": "code",
   "execution_count": 95,
   "metadata": {},
   "outputs": [
    {
     "data": {
      "image/png": "[encoded data removed]",
      "text/plain": [
       "<Figure size 640x480 with 1 Axes>"
      ]
     },
     "metadata": {},
     "output_type": "display_data"
    }
   ],
   "source": [
    "EpsF1df.plot.line(\"NumNeighb\",\"F1\")\n",
    "plt.xlim(500, 1000)\n",
    "plt.title(\"F1 vs NumNeighb\")\n",
    "plt.show()"
   ]
  },
  {
   "cell_type": "code",
   "execution_count": 96,
   "metadata": {},
   "outputs": [],
   "source": [
    "#Knowing that 900 is the best num of neighbors for LOF we test the original 75,492 so the results can be compared to other models"
   ]
  },
  {
   "cell_type": "code",
   "execution_count": 97,
   "metadata": {},
   "outputs": [
    {
     "name": "stdout",
     "output_type": "stream",
     "text": [
      "data  (284807, 31)\n",
      "normal_data  (284315, 31)\n",
      "fraud_data  (492, 31)\n",
      "Percent fraud  0.1727 %\n",
      "normal_pca_data  (284315, 30)\n",
      "fraud_pca_data (492, 30)\n",
      "Fraud data only in Test with NONE in the training\n",
      "X_train  (209315, 30)\n",
      "X_test  (75129, 30)\n",
      "y_test  (75129,)\n",
      "X_inliers  (75000, 30)\n",
      "X_outliers  (492, 30)\n",
      "X  (75492, 30)\n",
      "n_outliers  492\n",
      "percent fraud in test:  0.006548736173781097\n"
     ]
    }
   ],
   "source": [
    "data = dfRaw.copy()\n",
    "scl = StandardScaler()\n",
    "all_cols = list(data)[:] \n",
    "pca_columns = list(data)[:-1] # all cols without Class\n",
    "Xcopy = data[pca_columns]\n",
    "XcopyALL = data[all_cols]\n",
    "Xscaled = scl.fit_transform(Xcopy)\n",
    "OnlyClass = data['Class'].values.reshape(-1,1)\n",
    "data = np.concatenate((Xscaled, OnlyClass), axis=1)\n",
    "data = pd.DataFrame(data, columns = XcopyALL.columns)\n",
    "\n",
    "normal_data = data.loc[data[\"Class\"] == 0]\n",
    "fraud_data = data.loc[data[\"Class\"] == 1]\n",
    "\n",
    "print(\"data \", data.shape)\n",
    "print(\"normal_data \", normal_data.shape)\n",
    "print(\"fraud_data \", fraud_data.shape)\n",
    "print(\"Percent fraud \", round(100*492/284807, 4),\"%\")\n",
    "\n",
    "# CREATE the TRAIN and TEST sets\n",
    "# Fraud data is ONLY in TEST - not in TRAIN\n",
    "\n",
    "normal_pca_data = normal_data[pca_columns]\n",
    "fraud_pca_data = fraud_data[pca_columns]\n",
    "\n",
    "num_test = 75000\n",
    "shuffled_data = normal_pca_data.sample(frac=1, random_state=1960)[:-num_test].values\n",
    "X_train = shuffled_data\n",
    "\n",
    "X_test = np.concatenate([normal_pca_data.sample(frac=1, random_state=1960)[-num_test:], fraud_pca_data[:129]])\n",
    "y_test = np.concatenate([np.zeros(num_test), np.ones(129)])\n",
    "\n",
    "print(\"normal_pca_data \", normal_pca_data.shape)\n",
    "print(\"fraud_pca_data\", fraud_pca_data.shape)\n",
    "print(\"Fraud data only in Test with NONE in the training\")\n",
    "print(\"X_train \", X_train.shape)\n",
    "#print(\"X_valid \", X_valid.shape)\n",
    "#print(\"y_valid \", y_valid.shape)\n",
    "print(\"X_test \", X_test.shape)\n",
    "print(\"y_test \", y_test.shape)\n",
    "\n",
    "X_inliers = shuffled_data[-num_test:]\n",
    "X_outliers = fraud_pca_data[:]\n",
    "X = np.r_[X_inliers, X_outliers]\n",
    "\n",
    "n_outliers = len(X_outliers)\n",
    "ground_truth = np.ones(len(X), dtype=int)\n",
    "ground_truth[-n_outliers:] = -1\n",
    "\n",
    "PercFraud = n_outliers / X_test.shape[0]\n",
    "PercFraud\n",
    "\n",
    "print('X_inliers ', X_inliers.shape)\n",
    "print('X_outliers ', X_outliers.shape)\n",
    "print('X ', X.shape)\n",
    "print('n_outliers ', n_outliers)\n",
    "print('percent fraud in test: ', PercFraud)"
   ]
  },
  {
   "cell_type": "code",
   "execution_count": 98,
   "metadata": {},
   "outputs": [],
   "source": [
    "clf = LocalOutlierFactor(n_neighbors=900, contamination = PercFraud, novelty=True)\n",
    "\n",
    "\n",
    "# cov = EllipticEnvelope(support_fraction = 0.994, contamination = PercFraud)\n",
    "# cov_model = cov.fit(X_train)\n",
    "# # predict test\n",
    "# y_pred = cov.predict(X_test)\n",
    "\n",
    "\n",
    "lof_model = clf.fit(X_train)\n",
    "y_pred = lof_model.predict(X_test)\n",
    "\n",
    "\n",
    "# n_errors = (y_pred != ground_truth).sum()\n",
    "X_scores = clf.negative_outlier_factor_\n",
    "# print('accuracy ' , round(1 - (n_errors / X.shape[0]),4))\n",
    "# n_errors"
   ]
  },
  {
   "cell_type": "code",
   "execution_count": 99,
   "metadata": {},
   "outputs": [
    {
     "data": {
      "text/plain": [
       "sklearn.neighbors._lof.LocalOutlierFactor"
      ]
     },
     "execution_count": 99,
     "metadata": {},
     "output_type": "execute_result"
    }
   ],
   "source": [
    "type(lof_model)"
   ]
  },
  {
   "cell_type": "code",
   "execution_count": 100,
   "metadata": {},
   "outputs": [
    {
     "name": "stdout",
     "output_type": "stream",
     "text": [
      "precision  0.184\n",
      "recall  0.907\n",
      "F1 score on Test 0.3059\n"
     ]
    }
   ],
   "source": [
    "y_predLOF = y_pred.copy()\n",
    "y_predDF = pd.DataFrame(y_predLOF)\n",
    "\n",
    "y_predDF[y_predDF[0] == 1] = 0\n",
    "y_predDF[y_predDF[0] == -1] = 1\n",
    "\n",
    "y_predLOF = y_predDF.values\n",
    "y_predLOF = np.ravel(y_predLOF)\n",
    "\n",
    "# F1 Score\n",
    "#print(\"F1 score\", round(f1_score(y_valid,pred, average='binary'), 4))\n",
    "precision,recall,fbeta_score, support  = precision_recall_fscore_support(y_test, y_predLOF, average='binary')\n",
    "print(\"precision \", round((precision), 4))\n",
    "print(\"recall \", round((recall), 4))\n",
    "print(\"F1 score on Test\", round((fbeta_score), 4))"
   ]
  },
  {
   "cell_type": "code",
   "execution_count": 101,
   "metadata": {},
   "outputs": [
    {
     "data": {
      "image/png": "[encoded data removed]",
      "text/plain": [
       "<Figure size 640x480 with 1 Axes>"
      ]
     },
     "metadata": {},
     "output_type": "display_data"
    }
   ],
   "source": [
    "from numpy import quantile, where, random\n",
    "lofs_index=where(y_pred==-1)\n",
    "values = X_test[lofs_index]\n",
    "\n",
    "plt.scatter(X_test[:,0], X_test[:,1])\n",
    "plt.scatter(values[:,0],values[:,1], color='r')\n",
    "plt.show()\n"
   ]
  },
  {
   "cell_type": "code",
   "execution_count": 102,
   "metadata": {},
   "outputs": [
    {
     "data": {
      "text/plain": [
       "array([ 0,  0,  0, ..., -1, -1, -1])"
      ]
     },
     "execution_count": 102,
     "metadata": {},
     "output_type": "execute_result"
    }
   ],
   "source": [
    "y_pred[y_pred == 1] = 0\n",
    "y_pred"
   ]
  },
  {
   "cell_type": "code",
   "execution_count": 103,
   "metadata": {},
   "outputs": [],
   "source": [
    "# y_test"
   ]
  },
  {
   "cell_type": "code",
   "execution_count": 104,
   "metadata": {},
   "outputs": [],
   "source": [
    "from sklearn import metrics\n",
    "conf_mx = metrics.confusion_matrix(y_test,y_predDF)"
   ]
  },
  {
   "cell_type": "code",
   "execution_count": 105,
   "metadata": {},
   "outputs": [],
   "source": [
    "def plot_confusion_matrix(cm,target_names,title='Confusion matrix',cmap=None,\n",
    "                          normalize=False):\n",
    "    import itertools\n",
    "    accuracy = np.trace(cm) / float(np.sum(cm))\n",
    "    misclass = 1 - accuracy\n",
    "\n",
    "    if cmap is None:\n",
    "        cmap = plt.get_cmap('Blues')\n",
    "\n",
    "    plt.figure(figsize=(8, 6))\n",
    "    plt.imshow(cm, interpolation='nearest', cmap=cmap)\n",
    "    plt.title(title)\n",
    "    plt.colorbar()\n",
    "\n",
    "    if target_names is not None:\n",
    "        tick_marks = np.arange(len(target_names))\n",
    "        plt.xticks(tick_marks, target_names, rotation=45)\n",
    "        plt.yticks(tick_marks, target_names)\n",
    "        \n",
    "    if normalize:\n",
    "        cm = cm.astype('float') / cm.sum(axis=1)[:, np.newaxis]\n",
    "        \n",
    "    thresh = cm.max() / 1.5 if normalize else cm.max() / 2\n",
    "    for i, j in itertools.product(range(cm.shape[0]), range(cm.shape[1])):\n",
    "        if normalize:\n",
    "            plt.text(j, i, \"{:0.4f}\".format(cm[i, j]),\n",
    "                     horizontalalignment=\"center\",\n",
    "                     color=\"white\" if cm[i, j] > thresh else \"black\")\n",
    "        else:\n",
    "            plt.text(j, i, \"{:,}\".format(cm[i, j]),\n",
    "                     horizontalalignment=\"center\",\n",
    "                     color=\"white\" if cm[i, j] > thresh else \"black\")\n",
    "\n",
    "\n",
    "    plt.tight_layout()\n",
    "    plt.ylabel('True label')\n",
    "    plt.xlabel('Predicted label\\naccuracy={:0.4f}; misclass={:0.4f}'.format(accuracy, misclass))\n",
    "    plt.show()"
   ]
  },
  {
   "cell_type": "code",
   "execution_count": 106,
   "metadata": {},
   "outputs": [
    {
     "name": "stdout",
     "output_type": "stream",
     "text": [
      "              precision    recall  f1-score   support\n",
      "\n",
      "         0.0       1.00      0.99      1.00     75000\n",
      "         1.0       0.18      0.91      0.31       129\n",
      "\n",
      "    accuracy                           0.99     75129\n",
      "   macro avg       0.59      0.95      0.65     75129\n",
      "weighted avg       1.00      0.99      1.00     75129\n",
      "\n"
     ]
    }
   ],
   "source": [
    "print(metrics.classification_report(y_test, y_predLOF))"
   ]
  },
  {
   "cell_type": "code",
   "execution_count": 107,
   "metadata": {},
   "outputs": [
    {
     "data": {
      "image/png": "[encoded data removed]",
      "text/plain": [
       "<Figure size 800x600 with 2 Axes>"
      ]
     },
     "metadata": {},
     "output_type": "display_data"
    }
   ],
   "source": [
    "plot_confusion_matrix(conf_mx, \n",
    "                      normalize    = False,\n",
    "                      target_names = ['Genuine', 'Fraud'],\n",
    "                      title        = \"Confusion Matrix on test\")"
   ]
  },
  {
   "cell_type": "markdown",
   "metadata": {},
   "source": [
    "# GAUSSIAN MODEL"
   ]
  },
  {
   "cell_type": "code",
   "execution_count": 108,
   "metadata": {},
   "outputs": [
    {
     "name": "stdout",
     "output_type": "stream",
     "text": [
      "max prob of x on X_train 2.2552386882104105e-12\n",
      "mean prob of x on X_train 6.093073190799043e-14\n",
      "------------------------------------------------------------\n",
      "max prob of x on X_test 1.7470854036729692e-12\n",
      "mean prob of x on X_test 6.093995132072283e-14\n",
      "------------------------------------------------------------\n",
      "max prob of x on fraud_pca_data 9.639574675464163e-14\n",
      "mean prob of x on fraud_pca_data 1.0508661127411214e-15\n",
      "------------------------------------------------------------\n",
      "Difference between mean prob of Train vs Fraud  5.98798657952493e-14\n"
     ]
    }
   ],
   "source": [
    "# Calculate the  prob on train vs test vs fraud data only (no normals at all)\n",
    "\n",
    "from scipy.stats import multivariate_normal\n",
    "\n",
    "# 1 - calculate p the gaussian matrix - like fit/train the model\n",
    "p = multivariate_normal(mean=np.mean(X_train,axis=0), cov=np.cov(X_train.T))\n",
    "\n",
    "x = p.pdf(X_train)\n",
    "print(\"max prob of x on X_train\", max(x))\n",
    "print(\"mean prob of x on X_train\", np.mean(x))\n",
    "\n",
    "print('-' * 60)\n",
    "MyTrain = np.mean(x)\n",
    "\n",
    "x = p.pdf(X_test)\n",
    "print(\"max prob of x on X_test\", max(x))\n",
    "print(\"mean prob of x on X_test\", np.mean(x))\n",
    "\n",
    "print('-' * 60)\n",
    "MyTest = np.mean(x)\n",
    "\n",
    "x = p.pdf(fraud_pca_data)\n",
    "print(\"max prob of x on fraud_pca_data\", max(x))\n",
    "print(\"mean prob of x on fraud_pca_data\", np.mean(x))\n",
    "\n",
    "print('-' * 60)\n",
    "MyFraud = np.mean(x)\n",
    "\n",
    "print('Difference between mean prob of Train vs Fraud ', MyTrain - MyFraud)"
   ]
  },
  {
   "cell_type": "code",
   "execution_count": 109,
   "metadata": {},
   "outputs": [
    {
     "name": "stdout",
     "output_type": "stream",
     "text": [
      "[1.75119217e-16 2.34910363e-16 9.51582820e-14 ... 0.00000000e+00\n",
      " 0.00000000e+00 0.00000000e+00]\n"
     ]
    }
   ],
   "source": [
    "# Find best epsilon re F1 score\n",
    "\n",
    "# 2 - calculate the score (x) for each observation on the mixture gaussian matrix\n",
    "x = p.pdf(X_test)\n",
    "\n",
    "# 3 - find the best threshold (eps) by using F1 as dependant variable\n",
    "EpsF1 = []\n",
    "\n",
    "epsilons = [1e-10, 1e-20, 1e-30, 1e-40, 1e-50, 1e-60, 1e-70, 1e-80, 1e-90, 1e-100, 1e-110, 1e-120,\n",
    "           1e-130, 1e-140, 1e-150, 1e-160, 1e-170, 1e-180, 1e-190, 1e-200, 1e-210, 1e-220, 1e-230, 1e-240]\n",
    "\n",
    "for e in range(len(epsilons)):\n",
    "    eps = epsilons[e]\n",
    "    predGM = (x <= eps)\n",
    "    f = f1_score(y_test, predGM, average='binary')\n",
    "    #print(\"F1 score on test\", round(f,4), \" with epsilon \", eps)\n",
    "    EpsF1.append([eps, round(f,4)])\n",
    "    \n",
    "EpsF1df = pd.DataFrame(EpsF1, columns = ['epsilon', 'F1'])\n",
    "EpsF1df.head()\n",
    "print(x)"
   ]
  },
  {
   "cell_type": "code",
   "execution_count": 110,
   "metadata": {},
   "outputs": [
    {
     "data": {
      "text/plain": [
       "epsilon    1.000000e-210\n",
       "F1          5.960000e-01\n",
       "Name: 20, dtype: float64"
      ]
     },
     "execution_count": 110,
     "metadata": {},
     "output_type": "execute_result"
    }
   ],
   "source": [
    "# Best Epsilon ... Max F1 on test\n",
    "\n",
    "EpsF1df.loc[EpsF1df['F1'].idxmax()]"
   ]
  },
  {
   "cell_type": "code",
   "execution_count": 111,
   "metadata": {},
   "outputs": [
    {
     "data": {
      "image/png": "[encoded data removed]",
      "text/plain": [
       "<Figure size 640x480 with 1 Axes>"
      ]
     },
     "metadata": {},
     "output_type": "display_data"
    }
   ],
   "source": [
    "EpsF1df.plot.line(\"epsilon\",\"F1\")\n",
    "plt.xscale('log')\n",
    "plt.xlim(1e-10, 1e-240)\n",
    "plt.title(\"F1 vs decreasing log Epsilon\")\n",
    "plt.show()"
   ]
  },
  {
   "cell_type": "code",
   "execution_count": 112,
   "metadata": {},
   "outputs": [
    {
     "name": "stdout",
     "output_type": "stream",
     "text": [
      "epsilon  1e-210\n",
      "__________________________________________________\n",
      "[[74884   116]\n",
      " [   25   104]]\n",
      "__________________________________________________\n",
      "TP  104\n",
      "FP  116\n",
      "TN  74884\n",
      "FN  25\n"
     ]
    }
   ],
   "source": [
    "# CONFUSION MATRIX and F1 SCORE on Test w best epsilon\n",
    "\n",
    "eps = EpsF1df.loc[EpsF1df['F1'].idxmax()]['epsilon']\n",
    "\n",
    "print(\"epsilon \", eps)\n",
    "print(\"_\"*50)\n",
    "predGM = (x<=eps)\n",
    "CM = confusion_matrix(y_test,predGM)\n",
    "tn, fp, fn, tp = confusion_matrix(y_test,predGM).ravel()\n",
    "\n",
    "print(CM)\n",
    "print(\"_\"*50)\n",
    "print(\"TP \", tp)\n",
    "print(\"FP \", fp)\n",
    "print(\"TN \", tn)\n",
    "print(\"FN \", fn)"
   ]
  },
  {
   "cell_type": "code",
   "execution_count": 113,
   "metadata": {},
   "outputs": [
    {
     "name": "stdout",
     "output_type": "stream",
     "text": [
      "precision GM  0.473\n",
      "recall GM 0.806\n",
      "F1 score on Test GM 0.596\n"
     ]
    }
   ],
   "source": [
    "# F1 Score\n",
    "#print(\"F1 score\", round(f1_score(y_valid,pred, average='binary'), 4))\n",
    "precisionGM,recallGM,fbeta_scoreGM, supportGM  = precision_recall_fscore_support(y_test,predGM, average='binary')\n",
    "print(\"precision GM \", round((precisionGM), 3))\n",
    "print(\"recall GM\", round((recallGM), 3))\n",
    "print(\"F1 score on Test GM\", round((fbeta_scoreGM), 3))"
   ]
  },
  {
   "cell_type": "code",
   "execution_count": 114,
   "metadata": {},
   "outputs": [
    {
     "name": "stdout",
     "output_type": "stream",
     "text": [
      "              precision    recall  f1-score   support\n",
      "\n",
      "         0.0       1.00      1.00      1.00     75000\n",
      "         1.0       0.47      0.81      0.60       129\n",
      "\n",
      "    accuracy                           1.00     75129\n",
      "   macro avg       0.74      0.90      0.80     75129\n",
      "weighted avg       1.00      1.00      1.00     75129\n",
      "\n"
     ]
    }
   ],
   "source": [
    "print(metrics.classification_report(y_test, predGM))"
   ]
  },
  {
   "cell_type": "markdown",
   "metadata": {},
   "source": [
    "# Empiric Covariance (Elliptic Envelope)"
   ]
  },
  {
   "cell_type": "code",
   "execution_count": 115,
   "metadata": {},
   "outputs": [
    {
     "name": "stdout",
     "output_type": "stream",
     "text": [
      "precision RC  0.1881\n",
      "recall RC 0.8837\n",
      "F1 score on Test RC 0.3102\n"
     ]
    }
   ],
   "source": [
    "\n",
    "from sklearn.covariance import EllipticEnvelope\n",
    "\n",
    "cov = EllipticEnvelope(contamination = PercFraud, support_fraction = 0.994)\n",
    "cov_model = cov.fit(X_train)\n",
    "###\n",
    "from sklearn.metrics import f1_score, confusion_matrix, classification_report, precision_recall_fscore_support\n",
    "y_predR = cov.predict(X_test)\n",
    "\n",
    "y_predRC = y_predR.copy()\n",
    "y_predDF2 = pd.DataFrame(y_predRC)\n",
    "\n",
    "y_predDF2[y_predDF2[0] == 1] = 0\n",
    "y_predDF2[y_predDF2[0] == -1] = 1\n",
    "\n",
    "y_predRC = y_predDF2.values\n",
    "y_predRC = np.ravel(y_predRC)\n",
    "\n",
    "# F1 Score\n",
    "#print(\"F1 score\", round(f1_score(y_valid,pred, average='binary'), 4))\n",
    "precisionRC,recallRC,fbeta_scoreRC, supportRC  = precision_recall_fscore_support(y_test, y_predRC, average='binary')\n",
    "print(\"precision RC \", round((precisionRC), 4))\n",
    "print(\"recall RC\", round((recallRC), 4))\n",
    "print(\"F1 score on Test RC\", round((fbeta_scoreRC), 4))"
   ]
  },
  {
   "cell_type": "code",
   "execution_count": 116,
   "metadata": {},
   "outputs": [
    {
     "name": "stdout",
     "output_type": "stream",
     "text": [
      "              precision    recall  f1-score   support\n",
      "\n",
      "         0.0       1.00      0.99      1.00     75000\n",
      "         1.0       0.19      0.88      0.31       129\n",
      "\n",
      "    accuracy                           0.99     75129\n",
      "   macro avg       0.59      0.94      0.65     75129\n",
      "weighted avg       1.00      0.99      1.00     75129\n",
      "\n"
     ]
    }
   ],
   "source": [
    "print(metrics.classification_report(y_test, y_predRC))"
   ]
  },
  {
   "cell_type": "markdown",
   "metadata": {},
   "source": [
    "# Ensemble"
   ]
  },
  {
   "cell_type": "code",
   "execution_count": 117,
   "metadata": {},
   "outputs": [],
   "source": [
    "\n",
    "df = y_predDF.rename(columns={ y_predDF.columns[0]: \"Prediction_LOF\" })\n",
    "df['Test'] = y_test.tolist()\n",
    "df = df.rename(columns={df.columns[1]: \"Test\" })\n",
    "df['Prediction_GM'] = predGM.tolist()\n",
    "df['Prediction_GM'] = df['Prediction_GM'].replace({False : 0, True: 1})\n",
    "df['Prediction_RC'] = y_predRC.tolist()\n"
   ]
  },
  {
   "cell_type": "code",
   "execution_count": 118,
   "metadata": {},
   "outputs": [
    {
     "name": "stdout",
     "output_type": "stream",
     "text": [
      "0    74909\n",
      "1      220\n",
      "Name: Prediction_GM, dtype: int64\n",
      "0    74493\n",
      "1      636\n",
      "Name: Prediction_LOF, dtype: int64\n",
      "0    74523\n",
      "1      606\n",
      "Name: Prediction_RC, dtype: int64\n"
     ]
    }
   ],
   "source": [
    "print(df['Prediction_GM'].value_counts())\n",
    "print(df['Prediction_LOF'].value_counts())\n",
    "print(df['Prediction_RC'].value_counts())"
   ]
  },
  {
   "cell_type": "code",
   "execution_count": 119,
   "metadata": {},
   "outputs": [
    {
     "data": {
      "text/plain": [
       "556"
      ]
     },
     "execution_count": 119,
     "metadata": {},
     "output_type": "execute_result"
    }
   ],
   "source": [
    "n_errors = (df['Prediction_LOF'] != df['Prediction_RC']).sum()\n",
    "n_errors"
   ]
  },
  {
   "cell_type": "code",
   "execution_count": 120,
   "metadata": {},
   "outputs": [
    {
     "data": {
      "text/plain": [
       "388"
      ]
     },
     "execution_count": 120,
     "metadata": {},
     "output_type": "execute_result"
    }
   ],
   "source": [
    "n_errors = (df['Prediction_GM'] != df['Prediction_RC']).sum()\n",
    "n_errors"
   ]
  },
  {
   "cell_type": "code",
   "execution_count": 121,
   "metadata": {},
   "outputs": [
    {
     "data": {
      "text/plain": [
       "416"
      ]
     },
     "execution_count": 121,
     "metadata": {},
     "output_type": "execute_result"
    }
   ],
   "source": [
    "n_errors = (df['Prediction_LOF'] != df['Prediction_GM']).sum()\n",
    "n_errors"
   ]
  },
  {
   "cell_type": "code",
   "execution_count": 122,
   "metadata": {},
   "outputs": [
    {
     "data": {
      "text/html": [
       "<div>\n",
       "<style scoped>\n",
       "    .dataframe tbody tr th:only-of-type {\n",
       "        vertical-align: middle;\n",
       "    }\n",
       "\n",
       "    .dataframe tbody tr th {\n",
       "        vertical-align: top;\n",
       "    }\n",
       "\n",
       "    .dataframe thead th {\n",
       "        text-align: right;\n",
       "    }\n",
       "</style>\n",
       "<table border=\"1\" class=\"dataframe\">\n",
       "  <thead>\n",
       "    <tr style=\"text-align: right;\">\n",
       "      <th></th>\n",
       "      <th>Prediction_LOF</th>\n",
       "      <th>Test</th>\n",
       "      <th>Prediction_GM</th>\n",
       "      <th>Prediction_RC</th>\n",
       "    </tr>\n",
       "  </thead>\n",
       "  <tbody>\n",
       "    <tr>\n",
       "      <th>0</th>\n",
       "      <td>0</td>\n",
       "      <td>0.0</td>\n",
       "      <td>0</td>\n",
       "      <td>0</td>\n",
       "    </tr>\n",
       "    <tr>\n",
       "      <th>1</th>\n",
       "      <td>0</td>\n",
       "      <td>0.0</td>\n",
       "      <td>0</td>\n",
       "      <td>0</td>\n",
       "    </tr>\n",
       "    <tr>\n",
       "      <th>2</th>\n",
       "      <td>0</td>\n",
       "      <td>0.0</td>\n",
       "      <td>0</td>\n",
       "      <td>0</td>\n",
       "    </tr>\n",
       "    <tr>\n",
       "      <th>3</th>\n",
       "      <td>0</td>\n",
       "      <td>0.0</td>\n",
       "      <td>0</td>\n",
       "      <td>0</td>\n",
       "    </tr>\n",
       "    <tr>\n",
       "      <th>4</th>\n",
       "      <td>0</td>\n",
       "      <td>0.0</td>\n",
       "      <td>0</td>\n",
       "      <td>0</td>\n",
       "    </tr>\n",
       "    <tr>\n",
       "      <th>...</th>\n",
       "      <td>...</td>\n",
       "      <td>...</td>\n",
       "      <td>...</td>\n",
       "      <td>...</td>\n",
       "    </tr>\n",
       "    <tr>\n",
       "      <th>75124</th>\n",
       "      <td>1</td>\n",
       "      <td>1.0</td>\n",
       "      <td>1</td>\n",
       "      <td>1</td>\n",
       "    </tr>\n",
       "    <tr>\n",
       "      <th>75125</th>\n",
       "      <td>1</td>\n",
       "      <td>1.0</td>\n",
       "      <td>1</td>\n",
       "      <td>1</td>\n",
       "    </tr>\n",
       "    <tr>\n",
       "      <th>75126</th>\n",
       "      <td>1</td>\n",
       "      <td>1.0</td>\n",
       "      <td>1</td>\n",
       "      <td>1</td>\n",
       "    </tr>\n",
       "    <tr>\n",
       "      <th>75127</th>\n",
       "      <td>1</td>\n",
       "      <td>1.0</td>\n",
       "      <td>1</td>\n",
       "      <td>1</td>\n",
       "    </tr>\n",
       "    <tr>\n",
       "      <th>75128</th>\n",
       "      <td>1</td>\n",
       "      <td>1.0</td>\n",
       "      <td>1</td>\n",
       "      <td>1</td>\n",
       "    </tr>\n",
       "  </tbody>\n",
       "</table>\n",
       "<p>75129 rows × 4 columns</p>\n",
       "</div>"
      ],
      "text/plain": [
       "       Prediction_LOF  Test  Prediction_GM  Prediction_RC\n",
       "0                   0   0.0              0              0\n",
       "1                   0   0.0              0              0\n",
       "2                   0   0.0              0              0\n",
       "3                   0   0.0              0              0\n",
       "4                   0   0.0              0              0\n",
       "...               ...   ...            ...            ...\n",
       "75124               1   1.0              1              1\n",
       "75125               1   1.0              1              1\n",
       "75126               1   1.0              1              1\n",
       "75127               1   1.0              1              1\n",
       "75128               1   1.0              1              1\n",
       "\n",
       "[75129 rows x 4 columns]"
      ]
     },
     "execution_count": 122,
     "metadata": {},
     "output_type": "execute_result"
    }
   ],
   "source": [
    "df"
   ]
  },
  {
   "cell_type": "code",
   "execution_count": 123,
   "metadata": {},
   "outputs": [],
   "source": [
    "def f(row):\n",
    "    if row['Test'] == 1 and row['Prediction_LOF'] == 1  and row['Prediction_GM'] == 1 and row ['Prediction_RC'] == 1:\n",
    "        val = 'Fraude'\n",
    "    elif row['Test'] == 0 and row['Prediction_LOF'] == 0 and row['Prediction_GM'] == 0 and row ['Prediction_RC'] == 0:\n",
    "        val = 'Genuine'\n",
    "    elif row['Test'] == 1 and row['Prediction_LOF'] == 0 and row['Prediction_GM'] == 0 and row ['Prediction_RC'] == 0:\n",
    "        val = 'Not detected'\n",
    "    elif row['Test'] == 1 and (row['Prediction_LOF'] == 1  or row['Prediction_GM'] == 1 or row ['Prediction_RC'] == 1):\n",
    "        val = 'Fraude'\n",
    "    else:\n",
    "        val = 'False Alarme'\n",
    "    return val"
   ]
  },
  {
   "cell_type": "code",
   "execution_count": 124,
   "metadata": {},
   "outputs": [],
   "source": [
    "df['Transactions'] = df.apply(f, axis=1)"
   ]
  },
  {
   "cell_type": "code",
   "execution_count": 125,
   "metadata": {},
   "outputs": [
    {
     "data": {
      "text/plain": [
       "Genuine         74218\n",
       "False Alarme      782\n",
       "Fraude            117\n",
       "Not detected       12\n",
       "Name: Transactions, dtype: int64"
      ]
     },
     "execution_count": 125,
     "metadata": {},
     "output_type": "execute_result"
    }
   ],
   "source": [
    "df['Transactions'].value_counts()"
   ]
  },
  {
   "cell_type": "code",
   "execution_count": 126,
   "metadata": {},
   "outputs": [
    {
     "data": {
      "text/html": [
       "<div>\n",
       "<style scoped>\n",
       "    .dataframe tbody tr th:only-of-type {\n",
       "        vertical-align: middle;\n",
       "    }\n",
       "\n",
       "    .dataframe tbody tr th {\n",
       "        vertical-align: top;\n",
       "    }\n",
       "\n",
       "    .dataframe thead th {\n",
       "        text-align: right;\n",
       "    }\n",
       "</style>\n",
       "<table border=\"1\" class=\"dataframe\">\n",
       "  <thead>\n",
       "    <tr style=\"text-align: right;\">\n",
       "      <th></th>\n",
       "      <th>Prediction_LOF</th>\n",
       "      <th>Test</th>\n",
       "      <th>Prediction_GM</th>\n",
       "      <th>Prediction_RC</th>\n",
       "      <th>Transactions</th>\n",
       "    </tr>\n",
       "  </thead>\n",
       "  <tbody>\n",
       "    <tr>\n",
       "      <th>0</th>\n",
       "      <td>0</td>\n",
       "      <td>0.0</td>\n",
       "      <td>0</td>\n",
       "      <td>0</td>\n",
       "      <td>Genuine</td>\n",
       "    </tr>\n",
       "    <tr>\n",
       "      <th>1</th>\n",
       "      <td>0</td>\n",
       "      <td>0.0</td>\n",
       "      <td>0</td>\n",
       "      <td>0</td>\n",
       "      <td>Genuine</td>\n",
       "    </tr>\n",
       "    <tr>\n",
       "      <th>2</th>\n",
       "      <td>0</td>\n",
       "      <td>0.0</td>\n",
       "      <td>0</td>\n",
       "      <td>0</td>\n",
       "      <td>Genuine</td>\n",
       "    </tr>\n",
       "    <tr>\n",
       "      <th>3</th>\n",
       "      <td>0</td>\n",
       "      <td>0.0</td>\n",
       "      <td>0</td>\n",
       "      <td>0</td>\n",
       "      <td>Genuine</td>\n",
       "    </tr>\n",
       "    <tr>\n",
       "      <th>4</th>\n",
       "      <td>0</td>\n",
       "      <td>0.0</td>\n",
       "      <td>0</td>\n",
       "      <td>0</td>\n",
       "      <td>Genuine</td>\n",
       "    </tr>\n",
       "    <tr>\n",
       "      <th>5</th>\n",
       "      <td>0</td>\n",
       "      <td>0.0</td>\n",
       "      <td>0</td>\n",
       "      <td>0</td>\n",
       "      <td>Genuine</td>\n",
       "    </tr>\n",
       "    <tr>\n",
       "      <th>6</th>\n",
       "      <td>0</td>\n",
       "      <td>0.0</td>\n",
       "      <td>0</td>\n",
       "      <td>0</td>\n",
       "      <td>Genuine</td>\n",
       "    </tr>\n",
       "    <tr>\n",
       "      <th>7</th>\n",
       "      <td>0</td>\n",
       "      <td>0.0</td>\n",
       "      <td>0</td>\n",
       "      <td>0</td>\n",
       "      <td>Genuine</td>\n",
       "    </tr>\n",
       "    <tr>\n",
       "      <th>8</th>\n",
       "      <td>0</td>\n",
       "      <td>0.0</td>\n",
       "      <td>0</td>\n",
       "      <td>0</td>\n",
       "      <td>Genuine</td>\n",
       "    </tr>\n",
       "    <tr>\n",
       "      <th>9</th>\n",
       "      <td>0</td>\n",
       "      <td>0.0</td>\n",
       "      <td>0</td>\n",
       "      <td>0</td>\n",
       "      <td>Genuine</td>\n",
       "    </tr>\n",
       "    <tr>\n",
       "      <th>10</th>\n",
       "      <td>0</td>\n",
       "      <td>0.0</td>\n",
       "      <td>0</td>\n",
       "      <td>0</td>\n",
       "      <td>Genuine</td>\n",
       "    </tr>\n",
       "    <tr>\n",
       "      <th>11</th>\n",
       "      <td>0</td>\n",
       "      <td>0.0</td>\n",
       "      <td>0</td>\n",
       "      <td>0</td>\n",
       "      <td>Genuine</td>\n",
       "    </tr>\n",
       "    <tr>\n",
       "      <th>12</th>\n",
       "      <td>0</td>\n",
       "      <td>0.0</td>\n",
       "      <td>0</td>\n",
       "      <td>0</td>\n",
       "      <td>Genuine</td>\n",
       "    </tr>\n",
       "    <tr>\n",
       "      <th>13</th>\n",
       "      <td>0</td>\n",
       "      <td>0.0</td>\n",
       "      <td>0</td>\n",
       "      <td>0</td>\n",
       "      <td>Genuine</td>\n",
       "    </tr>\n",
       "    <tr>\n",
       "      <th>14</th>\n",
       "      <td>0</td>\n",
       "      <td>0.0</td>\n",
       "      <td>0</td>\n",
       "      <td>0</td>\n",
       "      <td>Genuine</td>\n",
       "    </tr>\n",
       "  </tbody>\n",
       "</table>\n",
       "</div>"
      ],
      "text/plain": [
       "    Prediction_LOF  Test  Prediction_GM  Prediction_RC Transactions\n",
       "0                0   0.0              0              0      Genuine\n",
       "1                0   0.0              0              0      Genuine\n",
       "2                0   0.0              0              0      Genuine\n",
       "3                0   0.0              0              0      Genuine\n",
       "4                0   0.0              0              0      Genuine\n",
       "5                0   0.0              0              0      Genuine\n",
       "6                0   0.0              0              0      Genuine\n",
       "7                0   0.0              0              0      Genuine\n",
       "8                0   0.0              0              0      Genuine\n",
       "9                0   0.0              0              0      Genuine\n",
       "10               0   0.0              0              0      Genuine\n",
       "11               0   0.0              0              0      Genuine\n",
       "12               0   0.0              0              0      Genuine\n",
       "13               0   0.0              0              0      Genuine\n",
       "14               0   0.0              0              0      Genuine"
      ]
     },
     "execution_count": 126,
     "metadata": {},
     "output_type": "execute_result"
    }
   ],
   "source": [
    "df.head(15)"
   ]
  },
  {
   "cell_type": "code",
   "execution_count": null,
   "metadata": {},
   "outputs": [],
   "source": []
  }
 ],
 "metadata": {
  "kernelspec": {
   "display_name": "Python 3.10.8 64-bit",
   "language": "python",
   "name": "python3"
  },
  "language_info": {
   "codemirror_mode": {
    "name": "ipython",
    "version": 3
   },
   "file_extension": ".py",
   "mimetype": "text/x-python",
   "name": "python",
   "nbconvert_exporter": "python",
   "pygments_lexer": "ipython3",
   "version": "3.10.8"
  },
  "orig_nbformat": 4,
  "vscode": {
   "interpreter": {
    "hash": "aee8b7b246df8f9039afb4144a1f6fd8d2ca17a180786b69acc140d282b71a49"
   }
  }
 },
 "nbformat": 4,
 "nbformat_minor": 2
}
